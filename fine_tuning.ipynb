{
 "cells": [
  {
   "cell_type": "code",
   "execution_count": null,
   "id": "fdb3be21",
   "metadata": {},
   "outputs": [
    {
     "name": "stdout",
     "output_type": "stream",
     "text": [
      "New https://pypi.org/project/ultralytics/8.3.155 available  Update with 'pip install -U ultralytics'\n",
      "Ultralytics 8.3.129  Python-3.10.16 torch-2.5.1+cu121 CUDA:0 (NVIDIA GeForce RTX 2070 SUPER, 8192MiB)\n",
      "\u001b[34m\u001b[1mengine\\trainer: \u001b[0magnostic_nms=False, amp=True, augment=False, auto_augment=randaugment, batch=6, bgr=0.0, box=7.5, cache=False, cfg=None, classes=None, close_mosaic=10, cls=0.5, conf=None, copy_paste=0.0, copy_paste_mode=flip, cos_lr=False, cutmix=0.0, data=C:/Users/DM/Documents/yh/AIFFELthon/data/custom/custom_image_ver3/data/final/data.yaml, degrees=0.0, deterministic=True, device=0, dfl=1.5, dnn=False, dropout=0.0, dynamic=False, embed=None, epochs=50, erasing=0.4, exist_ok=False, fliplr=0.5, flipud=0.0, format=torchscript, fraction=1.0, freeze=None, half=False, hsv_h=0.015, hsv_s=0.7, hsv_v=0.4, imgsz=960, int8=False, iou=0.7, keras=False, kobj=1.0, line_width=None, lr0=0.0005, lrf=0.01, mask_ratio=4, max_det=300, mixup=0.0, mode=train, model=last.pt, momentum=0.937, mosaic=1.0, multi_scale=False, name=train4, nbs=64, nms=False, opset=None, optimize=False, optimizer=Adam, overlap_mask=True, patience=5, perspective=0.0, plots=True, pose=12.0, pretrained=True, profile=False, project=None, rect=False, resume=False, retina_masks=False, save=True, save_conf=False, save_crop=False, save_dir=runs\\detect\\train4, save_frames=False, save_json=False, save_period=-1, save_txt=False, scale=0.5, seed=0, shear=0.0, show=False, show_boxes=True, show_conf=True, show_labels=True, simplify=True, single_cls=False, source=None, split=val, stream_buffer=False, task=detect, time=None, tracker=botsort.yaml, translate=0.1, val=True, verbose=True, vid_stride=1, visualize=False, warmup_bias_lr=0.1, warmup_epochs=3.0, warmup_momentum=0.8, weight_decay=0.0005, workers=8, workspace=None\n",
      "\n",
      "                   from  n    params  module                                       arguments                     \n",
      "  0                  -1  1       928  ultralytics.nn.modules.conv.Conv             [3, 32, 3, 2]                 \n",
      "  1                  -1  1     18560  ultralytics.nn.modules.conv.Conv             [32, 64, 3, 2]                \n",
      "  2                  -1  1     29056  ultralytics.nn.modules.block.C2f             [64, 64, 1, True]             \n",
      "  3                  -1  1     73984  ultralytics.nn.modules.conv.Conv             [64, 128, 3, 2]               \n",
      "  4                  -1  2    197632  ultralytics.nn.modules.block.C2f             [128, 128, 2, True]           \n",
      "  5                  -1  1    295424  ultralytics.nn.modules.conv.Conv             [128, 256, 3, 2]              \n",
      "  6                  -1  2    788480  ultralytics.nn.modules.block.C2f             [256, 256, 2, True]           \n",
      "  7                  -1  1   1180672  ultralytics.nn.modules.conv.Conv             [256, 512, 3, 2]              \n",
      "  8                  -1  1   1838080  ultralytics.nn.modules.block.C2f             [512, 512, 1, True]           \n",
      "  9                  -1  1    656896  ultralytics.nn.modules.block.SPPF            [512, 512, 5]                 \n",
      " 10                  -1  1         0  torch.nn.modules.upsampling.Upsample         [None, 2, 'nearest']          \n",
      " 11             [-1, 6]  1         0  ultralytics.nn.modules.conv.Concat           [1]                           \n",
      " 12                  -1  1    591360  ultralytics.nn.modules.block.C2f             [768, 256, 1]                 \n",
      " 13                  -1  1         0  torch.nn.modules.upsampling.Upsample         [None, 2, 'nearest']          \n",
      " 14             [-1, 4]  1         0  ultralytics.nn.modules.conv.Concat           [1]                           \n",
      " 15                  -1  1    148224  ultralytics.nn.modules.block.C2f             [384, 128, 1]                 \n",
      " 16                  -1  1    147712  ultralytics.nn.modules.conv.Conv             [128, 128, 3, 2]              \n",
      " 17            [-1, 12]  1         0  ultralytics.nn.modules.conv.Concat           [1]                           \n",
      " 18                  -1  1    493056  ultralytics.nn.modules.block.C2f             [384, 256, 1]                 \n",
      " 19                  -1  1    590336  ultralytics.nn.modules.conv.Conv             [256, 256, 3, 2]              \n",
      " 20             [-1, 9]  1         0  ultralytics.nn.modules.conv.Concat           [1]                           \n",
      " 21                  -1  1   1969152  ultralytics.nn.modules.block.C2f             [768, 512, 1]                 \n",
      " 22        [15, 18, 21]  1   2116435  ultralytics.nn.modules.head.Detect           [1, [128, 256, 512]]          \n",
      "Model summary: 129 layers, 11,135,987 parameters, 11,135,971 gradients, 28.6 GFLOPs\n",
      "\n",
      "Transferred 355/355 items from pretrained weights\n",
      "Freezing layer 'model.22.dfl.conv.weight'\n",
      "\u001b[34m\u001b[1mAMP: \u001b[0mrunning Automatic Mixed Precision (AMP) checks...\n",
      "\u001b[34m\u001b[1mAMP: \u001b[0mchecks passed \n",
      "\u001b[34m\u001b[1mtrain: \u001b[0mFast image access  (ping: 0.10.0 ms, read: 564.2333.6 MB/s, size: 99.9 KB)\n"
     ]
    },
    {
     "name": "stderr",
     "output_type": "stream",
     "text": [
      "\u001b[34m\u001b[1mtrain: \u001b[0mScanning C:\\Users\\DM\\Documents\\yh\\AIFFELthon\\data\\custom\\custom_image_ver3\\data\\final\\train\\labels.cache... 9615 images, 2 backgrounds, 63 corrupt: 100%|██████████| 9615/9615 [00:00<?, ?it/s]"
     ]
    },
    {
     "name": "stdout",
     "output_type": "stream",
     "text": [
      "\u001b[34m\u001b[1mtrain: \u001b[0mC:\\Users\\DM\\Documents\\yh\\AIFFELthon\\data\\custom\\custom_image_ver3\\data\\final\\train\\images\\11_-flow_JPG.rf.9f0d4abbb5587e455b79a8db53ddfd17.jpg: ignoring corrupt image/label: Label class 1 exceeds dataset class count 1. Possible class labels are 0-0\n",
      "\u001b[34m\u001b[1mtrain: \u001b[0mC:\\Users\\DM\\Documents\\yh\\AIFFELthon\\data\\custom\\custom_image_ver3\\data\\final\\train\\images\\11_-flow_JPG.rf.d6c59a4e48b3b29e43c73da5557946da.jpg: ignoring corrupt image/label: Label class 1 exceeds dataset class count 1. Possible class labels are 0-0\n",
      "\u001b[34m\u001b[1mtrain: \u001b[0mC:\\Users\\DM\\Documents\\yh\\AIFFELthon\\data\\custom\\custom_image_ver3\\data\\final\\train\\images\\11_-impact_JPG.rf.5655ec3e0f45446a10592a08dc8cd426.jpg: ignoring corrupt image/label: Label class 1 exceeds dataset class count 1. Possible class labels are 0-0\n",
      "\u001b[34m\u001b[1mtrain: \u001b[0mC:\\Users\\DM\\Documents\\yh\\AIFFELthon\\data\\custom\\custom_image_ver3\\data\\final\\train\\images\\11_-impact_JPG.rf.f7e50e74761ff241e214a5d231515a6f.jpg: ignoring corrupt image/label: Label class 1 exceeds dataset class count 1. Possible class labels are 0-0\n",
      "\u001b[34m\u001b[1mtrain: \u001b[0mC:\\Users\\DM\\Documents\\yh\\AIFFELthon\\data\\custom\\custom_image_ver3\\data\\final\\train\\images\\13_-impact_JPG.rf.45235f14170e2e99d23dff848ea66e08.jpg: ignoring corrupt image/label: Label class 1 exceeds dataset class count 1. Possible class labels are 0-0\n",
      "\u001b[34m\u001b[1mtrain: \u001b[0mC:\\Users\\DM\\Documents\\yh\\AIFFELthon\\data\\custom\\custom_image_ver3\\data\\final\\train\\images\\13_-impact_JPG.rf.655e8092ec708af9103595a5096efe0b.jpg: ignoring corrupt image/label: Label class 1 exceeds dataset class count 1. Possible class labels are 0-0\n",
      "\u001b[34m\u001b[1mtrain: \u001b[0mC:\\Users\\DM\\Documents\\yh\\AIFFELthon\\data\\custom\\custom_image_ver3\\data\\final\\train\\images\\15_-impact_JPG.rf.160d932b5324a543be6660e009c2dca8.jpg: ignoring corrupt image/label: Label class 1 exceeds dataset class count 1. Possible class labels are 0-0\n",
      "\u001b[34m\u001b[1mtrain: \u001b[0mC:\\Users\\DM\\Documents\\yh\\AIFFELthon\\data\\custom\\custom_image_ver3\\data\\final\\train\\images\\15_-impact_JPG.rf.68373ea1857f442df43247addf61a25a.jpg: ignoring corrupt image/label: Label class 1 exceeds dataset class count 1. Possible class labels are 0-0\n",
      "\u001b[34m\u001b[1mtrain: \u001b[0mC:\\Users\\DM\\Documents\\yh\\AIFFELthon\\data\\custom\\custom_image_ver3\\data\\final\\train\\images\\16_-impact_JPG.rf.81e6acd4119b9b2b7e533bf3914c4804.jpg: ignoring corrupt image/label: Label class 1 exceeds dataset class count 1. Possible class labels are 0-0\n",
      "\u001b[34m\u001b[1mtrain: \u001b[0mC:\\Users\\DM\\Documents\\yh\\AIFFELthon\\data\\custom\\custom_image_ver3\\data\\final\\train\\images\\16_-impact_JPG.rf.ad3055d93782b8ac7b431b5aea139244.jpg: ignoring corrupt image/label: Label class 1 exceeds dataset class count 1. Possible class labels are 0-0\n",
      "\u001b[34m\u001b[1mtrain: \u001b[0mC:\\Users\\DM\\Documents\\yh\\AIFFELthon\\data\\custom\\custom_image_ver3\\data\\final\\train\\images\\21_-impact_JPG.rf.6bdc37d49fa4c0b74d4aec2d0aae9c50.jpg: ignoring corrupt image/label: Label class 1 exceeds dataset class count 1. Possible class labels are 0-0\n",
      "\u001b[34m\u001b[1mtrain: \u001b[0mC:\\Users\\DM\\Documents\\yh\\AIFFELthon\\data\\custom\\custom_image_ver3\\data\\final\\train\\images\\25_-impact_JPG.rf.28d3b5c457900af1c21a103f8f47d646.jpg: ignoring corrupt image/label: Label class 1 exceeds dataset class count 1. Possible class labels are 0-0\n",
      "\u001b[34m\u001b[1mtrain: \u001b[0mC:\\Users\\DM\\Documents\\yh\\AIFFELthon\\data\\custom\\custom_image_ver3\\data\\final\\train\\images\\25_-impact_JPG.rf.29edbc81501a4fad3a9a7e0544bdfe54.jpg: ignoring corrupt image/label: Label class 1 exceeds dataset class count 1. Possible class labels are 0-0\n",
      "\u001b[34m\u001b[1mtrain: \u001b[0mC:\\Users\\DM\\Documents\\yh\\AIFFELthon\\data\\custom\\custom_image_ver3\\data\\final\\train\\images\\26_-impact_JPG.rf.a7b403cec6d3d6bf004f13bd4f0825e0.jpg: ignoring corrupt image/label: Label class 1 exceeds dataset class count 1. Possible class labels are 0-0\n",
      "\u001b[34m\u001b[1mtrain: \u001b[0mC:\\Users\\DM\\Documents\\yh\\AIFFELthon\\data\\custom\\custom_image_ver3\\data\\final\\train\\images\\28_-impact_JPG.rf.395c0941da644886e8ebd17ca96a1df7.jpg: ignoring corrupt image/label: Label class 1 exceeds dataset class count 1. Possible class labels are 0-0\n",
      "\u001b[34m\u001b[1mtrain: \u001b[0mC:\\Users\\DM\\Documents\\yh\\AIFFELthon\\data\\custom\\custom_image_ver3\\data\\final\\train\\images\\28_-impact_JPG.rf.5e429f941cb7fc4a9e51f3626706ae8f.jpg: ignoring corrupt image/label: Label class 1 exceeds dataset class count 1. Possible class labels are 0-0\n",
      "\u001b[34m\u001b[1mtrain: \u001b[0mC:\\Users\\DM\\Documents\\yh\\AIFFELthon\\data\\custom\\custom_image_ver3\\data\\final\\train\\images\\2_-impact_JPG.rf.14d576c615719858c950e362ada0bd65.jpg: ignoring corrupt image/label: Label class 1 exceeds dataset class count 1. Possible class labels are 0-0\n",
      "\u001b[34m\u001b[1mtrain: \u001b[0mC:\\Users\\DM\\Documents\\yh\\AIFFELthon\\data\\custom\\custom_image_ver3\\data\\final\\train\\images\\2_-impact_JPG.rf.f1c6c25a4b18c5f45c7ea0ba0471e8d3.jpg: ignoring corrupt image/label: Label class 1 exceeds dataset class count 1. Possible class labels are 0-0\n",
      "\u001b[34m\u001b[1mtrain: \u001b[0mC:\\Users\\DM\\Documents\\yh\\AIFFELthon\\data\\custom\\custom_image_ver3\\data\\final\\train\\images\\30_-impact_JPG.rf.364ff8638c384a2ff0ad04de61aba414.jpg: ignoring corrupt image/label: Label class 1 exceeds dataset class count 1. Possible class labels are 0-0\n",
      "\u001b[34m\u001b[1mtrain: \u001b[0mC:\\Users\\DM\\Documents\\yh\\AIFFELthon\\data\\custom\\custom_image_ver3\\data\\final\\train\\images\\34cdfa8e-b514-457b-a57d-be996dca8cf7_frame_1606_jpg.rf.a41dbaa9e64cfd199fead8b0dbed582e.jpg: 1 duplicate labels removed\n",
      "\u001b[34m\u001b[1mtrain: \u001b[0mC:\\Users\\DM\\Documents\\yh\\AIFFELthon\\data\\custom\\custom_image_ver3\\data\\final\\train\\images\\3_-impact_JPG.rf.931be02e9ecbb05280dd8166ee05b5a8.jpg: ignoring corrupt image/label: Label class 1 exceeds dataset class count 1. Possible class labels are 0-0\n",
      "\u001b[34m\u001b[1mtrain: \u001b[0mC:\\Users\\DM\\Documents\\yh\\AIFFELthon\\data\\custom\\custom_image_ver3\\data\\final\\train\\images\\4a1d786f-71ed-42f3-9ee5-7ca7a5227570_frame_12_jpg.rf.356d4e6f952bdcbe53033e432ccf6130.jpg: 2 duplicate labels removed\n",
      "\u001b[34m\u001b[1mtrain: \u001b[0mC:\\Users\\DM\\Documents\\yh\\AIFFELthon\\data\\custom\\custom_image_ver3\\data\\final\\train\\images\\5_-impact_JPG.rf.6c43497f2fb6227b541b56e81a56c54e.jpg: ignoring corrupt image/label: Label class 1 exceeds dataset class count 1. Possible class labels are 0-0\n",
      "\u001b[34m\u001b[1mtrain: \u001b[0mC:\\Users\\DM\\Documents\\yh\\AIFFELthon\\data\\custom\\custom_image_ver3\\data\\final\\train\\images\\5_-impact_JPG.rf.ff5cec49098f415dfc4f59127205c6c3.jpg: ignoring corrupt image/label: Label class 1 exceeds dataset class count 1. Possible class labels are 0-0\n",
      "\u001b[34m\u001b[1mtrain: \u001b[0mC:\\Users\\DM\\Documents\\yh\\AIFFELthon\\data\\custom\\custom_image_ver3\\data\\final\\train\\images\\7_-impact_JPG.rf.d2071827e1afb4369de69fb738d8ba0f.jpg: ignoring corrupt image/label: Label class 1 exceeds dataset class count 1. Possible class labels are 0-0\n",
      "\u001b[34m\u001b[1mtrain: \u001b[0mC:\\Users\\DM\\Documents\\yh\\AIFFELthon\\data\\custom\\custom_image_ver3\\data\\final\\train\\images\\How-To-Take-The-Perfect-Free-Kick-_-5-Simple-Steps_mp4-0003_jpg.rf.6170487f93e2047249638f2b5a24dad0.jpg: 1 duplicate labels removed\n",
      "\u001b[34m\u001b[1mtrain: \u001b[0mC:\\Users\\DM\\Documents\\yh\\AIFFELthon\\data\\custom\\custom_image_ver3\\data\\final\\train\\images\\d94438da-7e48-488b-93a4-bb9426a6c152_frame_1620_jpg.rf.0f4667f9d776c634fe5da2b7bf768e76.jpg: 2 duplicate labels removed\n",
      "\u001b[34m\u001b[1mtrain: \u001b[0mC:\\Users\\DM\\Documents\\yh\\AIFFELthon\\data\\custom\\custom_image_ver3\\data\\final\\train\\images\\messi_impact13_png.rf.a460aba5f25ffcdc4221148ee066d304.jpg: ignoring corrupt image/label: Label class 1 exceeds dataset class count 1. Possible class labels are 0-0\n",
      "\u001b[34m\u001b[1mtrain: \u001b[0mC:\\Users\\DM\\Documents\\yh\\AIFFELthon\\data\\custom\\custom_image_ver3\\data\\final\\train\\images\\messi_impact13_png.rf.ff7b4bb5fb9377078a9567c5e81aa710.jpg: ignoring corrupt image/label: Label class 1 exceeds dataset class count 1. Possible class labels are 0-0\n",
      "\u001b[34m\u001b[1mtrain: \u001b[0mC:\\Users\\DM\\Documents\\yh\\AIFFELthon\\data\\custom\\custom_image_ver3\\data\\final\\train\\images\\messi_impact29_png.rf.03d757ffd0552c6f3e978c1ec1d31971.jpg: ignoring corrupt image/label: Label class 1 exceeds dataset class count 1. Possible class labels are 0-0\n",
      "\u001b[34m\u001b[1mtrain: \u001b[0mC:\\Users\\DM\\Documents\\yh\\AIFFELthon\\data\\custom\\custom_image_ver3\\data\\final\\train\\images\\messi_impact3_png.rf.eb4d819353452d45ebe9a45e8cf799e4.jpg: ignoring corrupt image/label: Label class 1 exceeds dataset class count 1. Possible class labels are 0-0\n",
      "\u001b[34m\u001b[1mtrain: \u001b[0mC:\\Users\\DM\\Documents\\yh\\AIFFELthon\\data\\custom\\custom_image_ver3\\data\\final\\train\\images\\tiktok10_mp4-0040_jpg.rf.bcd12831ee0daf6700f3b535785bf0f8.jpg: ignoring corrupt image/label: Label class 1 exceeds dataset class count 1. Possible class labels are 0-0\n",
      "\u001b[34m\u001b[1mtrain: \u001b[0mC:\\Users\\DM\\Documents\\yh\\AIFFELthon\\data\\custom\\custom_image_ver3\\data\\final\\train\\images\\tiktok10_mp4-0040_jpg.rf.fa282830ef2a3355c9fb9e5999912518.jpg: ignoring corrupt image/label: Label class 1 exceeds dataset class count 1. Possible class labels are 0-0\n",
      "\u001b[34m\u001b[1mtrain: \u001b[0mC:\\Users\\DM\\Documents\\yh\\AIFFELthon\\data\\custom\\custom_image_ver3\\data\\final\\train\\images\\tiktok11_mp4-0075_jpg.rf.0c41357e4fd525708adfb9886fb9f3c8.jpg: ignoring corrupt image/label: Label class 1 exceeds dataset class count 1. Possible class labels are 0-0\n",
      "\u001b[34m\u001b[1mtrain: \u001b[0mC:\\Users\\DM\\Documents\\yh\\AIFFELthon\\data\\custom\\custom_image_ver3\\data\\final\\train\\images\\tiktok11_mp4-0075_jpg.rf.98d55c6f1434a2006b6a47929e6989f5.jpg: ignoring corrupt image/label: Label class 1 exceeds dataset class count 1. Possible class labels are 0-0\n",
      "\u001b[34m\u001b[1mtrain: \u001b[0mC:\\Users\\DM\\Documents\\yh\\AIFFELthon\\data\\custom\\custom_image_ver3\\data\\final\\train\\images\\tiktok12_mp4-0040_jpg.rf.3ffe1f1959b8cede6e5b8f04f24e863d.jpg: ignoring corrupt image/label: Label class 1 exceeds dataset class count 1. Possible class labels are 0-0\n",
      "\u001b[34m\u001b[1mtrain: \u001b[0mC:\\Users\\DM\\Documents\\yh\\AIFFELthon\\data\\custom\\custom_image_ver3\\data\\final\\train\\images\\tiktok12_mp4-0042_jpg.rf.0653d44734d0227b3f5bd0373a08b35e.jpg: ignoring corrupt image/label: Label class 1 exceeds dataset class count 1. Possible class labels are 0-0\n",
      "\u001b[34m\u001b[1mtrain: \u001b[0mC:\\Users\\DM\\Documents\\yh\\AIFFELthon\\data\\custom\\custom_image_ver3\\data\\final\\train\\images\\tiktok12_mp4-0042_jpg.rf.950b64d7577b3c8ea6e28f74c0c3df36.jpg: ignoring corrupt image/label: Label class 1 exceeds dataset class count 1. Possible class labels are 0-0\n",
      "\u001b[34m\u001b[1mtrain: \u001b[0mC:\\Users\\DM\\Documents\\yh\\AIFFELthon\\data\\custom\\custom_image_ver3\\data\\final\\train\\images\\tiktok12_mp4-0043_jpg.rf.268fb8a36d1ce5c9af75841fff6f9e80.jpg: ignoring corrupt image/label: Label class 1 exceeds dataset class count 1. Possible class labels are 0-0\n",
      "\u001b[34m\u001b[1mtrain: \u001b[0mC:\\Users\\DM\\Documents\\yh\\AIFFELthon\\data\\custom\\custom_image_ver3\\data\\final\\train\\images\\tiktok13_mp4-0025_jpg.rf.d983414a9ca0a3c9dabc6a1575f9ee97.jpg: ignoring corrupt image/label: Label class 1 exceeds dataset class count 1. Possible class labels are 0-0\n",
      "\u001b[34m\u001b[1mtrain: \u001b[0mC:\\Users\\DM\\Documents\\yh\\AIFFELthon\\data\\custom\\custom_image_ver3\\data\\final\\train\\images\\tiktok13_mp4-0025_jpg.rf.df77bbcfa249942ee4ae9f41b2ff4adc.jpg: ignoring corrupt image/label: Label class 1 exceeds dataset class count 1. Possible class labels are 0-0\n",
      "\u001b[34m\u001b[1mtrain: \u001b[0mC:\\Users\\DM\\Documents\\yh\\AIFFELthon\\data\\custom\\custom_image_ver3\\data\\final\\train\\images\\tiktok15_mp4-0066_jpg.rf.21df44e073f6c13f96fd7f52398aaf4f.jpg: ignoring corrupt image/label: Label class 1 exceeds dataset class count 1. Possible class labels are 0-0\n",
      "\u001b[34m\u001b[1mtrain: \u001b[0mC:\\Users\\DM\\Documents\\yh\\AIFFELthon\\data\\custom\\custom_image_ver3\\data\\final\\train\\images\\tiktok15_mp4-0066_jpg.rf.843a7d9daf0c12feab4db3c8b18913a6.jpg: ignoring corrupt image/label: Label class 1 exceeds dataset class count 1. Possible class labels are 0-0\n",
      "\u001b[34m\u001b[1mtrain: \u001b[0mC:\\Users\\DM\\Documents\\yh\\AIFFELthon\\data\\custom\\custom_image_ver3\\data\\final\\train\\images\\tiktok16_mp4-0010_jpg.rf.1759f340f507f2cee94d77cb6fa57292.jpg: ignoring corrupt image/label: Label class 1 exceeds dataset class count 1. Possible class labels are 0-0\n",
      "\u001b[34m\u001b[1mtrain: \u001b[0mC:\\Users\\DM\\Documents\\yh\\AIFFELthon\\data\\custom\\custom_image_ver3\\data\\final\\train\\images\\tiktok16_mp4-0010_jpg.rf.6c0ce0ec4dd8d872ad838f85760eadd1.jpg: ignoring corrupt image/label: Label class 1 exceeds dataset class count 1. Possible class labels are 0-0\n",
      "\u001b[34m\u001b[1mtrain: \u001b[0mC:\\Users\\DM\\Documents\\yh\\AIFFELthon\\data\\custom\\custom_image_ver3\\data\\final\\train\\images\\tiktok18_mp4-0035_jpg.rf.b2fed81e6b4044f6ff9ba3bf7d9dc041.jpg: ignoring corrupt image/label: Label class 1 exceeds dataset class count 1. Possible class labels are 0-0\n",
      "\u001b[34m\u001b[1mtrain: \u001b[0mC:\\Users\\DM\\Documents\\yh\\AIFFELthon\\data\\custom\\custom_image_ver3\\data\\final\\train\\images\\tiktok2_mov-0054_jpg.rf.65b93d12e84f14939879e468d0fd6a68.jpg: ignoring corrupt image/label: Label class 1 exceeds dataset class count 1. Possible class labels are 0-0\n",
      "\u001b[34m\u001b[1mtrain: \u001b[0mC:\\Users\\DM\\Documents\\yh\\AIFFELthon\\data\\custom\\custom_image_ver3\\data\\final\\train\\images\\tiktok6_mp4-0153_jpg.rf.9972eded5ec7d4cf37ceeaaf053d37a0.jpg: ignoring corrupt image/label: Label class 1 exceeds dataset class count 1. Possible class labels are 0-0\n",
      "\u001b[34m\u001b[1mtrain: \u001b[0mC:\\Users\\DM\\Documents\\yh\\AIFFELthon\\data\\custom\\custom_image_ver3\\data\\final\\train\\images\\tiktok6_mp4-0153_jpg.rf.c252ef785931a661952f1ffcc0441c28.jpg: ignoring corrupt image/label: Label class 1 exceeds dataset class count 1. Possible class labels are 0-0\n",
      "\u001b[34m\u001b[1mtrain: \u001b[0mC:\\Users\\DM\\Documents\\yh\\AIFFELthon\\data\\custom\\custom_image_ver3\\data\\final\\train\\images\\tiktok7_mp4-0050_jpg.rf.b0981e60ee86f2508f70a8c876dae58b.jpg: ignoring corrupt image/label: Label class 1 exceeds dataset class count 1. Possible class labels are 0-0\n",
      "\u001b[34m\u001b[1mtrain: \u001b[0mC:\\Users\\DM\\Documents\\yh\\AIFFELthon\\data\\custom\\custom_image_ver3\\data\\final\\train\\images\\tiktok9_mp4-0041_jpg.rf.cd2b0cce3ddb36b169279f1e01698534.jpg: ignoring corrupt image/label: Label class 1 exceeds dataset class count 1. Possible class labels are 0-0\n",
      "\u001b[34m\u001b[1mtrain: \u001b[0mC:\\Users\\DM\\Documents\\yh\\AIFFELthon\\data\\custom\\custom_image_ver3\\data\\final\\train\\images\\yt-dbDRWx5i4Ew-0002_jpg.rf.7cae76269c9b34e14e32fe4e8ef67445.jpg: ignoring corrupt image/label: Label class 1 exceeds dataset class count 1. Possible class labels are 0-0\n",
      "\u001b[34m\u001b[1mtrain: \u001b[0mC:\\Users\\DM\\Documents\\yh\\AIFFELthon\\data\\custom\\custom_image_ver3\\data\\final\\train\\images\\yt-dbDRWx5i4Ew-0002_jpg.rf.bd6ef0f4c20f84ca41c98cce22e2ed32.jpg: ignoring corrupt image/label: Label class 1 exceeds dataset class count 1. Possible class labels are 0-0\n",
      "\u001b[34m\u001b[1mtrain: \u001b[0mC:\\Users\\DM\\Documents\\yh\\AIFFELthon\\data\\custom\\custom_image_ver3\\data\\final\\train\\images\\yt-dbDRWx5i4Ew-0003_jpg.rf.011868ea3959f820dfba7d7d78c6789f.jpg: ignoring corrupt image/label: Label class 1 exceeds dataset class count 1. Possible class labels are 0-0\n",
      "\u001b[34m\u001b[1mtrain: \u001b[0mC:\\Users\\DM\\Documents\\yh\\AIFFELthon\\data\\custom\\custom_image_ver3\\data\\final\\train\\images\\yt-dbDRWx5i4Ew-0003_jpg.rf.eec83f5c820f4829b6bfa8c6468c2ec1.jpg: ignoring corrupt image/label: Label class 1 exceeds dataset class count 1. Possible class labels are 0-0\n",
      "\u001b[34m\u001b[1mtrain: \u001b[0mC:\\Users\\DM\\Documents\\yh\\AIFFELthon\\data\\custom\\custom_image_ver3\\data\\final\\train\\images\\yt-dbDRWx5i4Ew-0031_jpg.rf.870c9d6ef870f7cd42453efc29c3247f.jpg: ignoring corrupt image/label: Label class 1 exceeds dataset class count 1. Possible class labels are 0-0\n",
      "\u001b[34m\u001b[1mtrain: \u001b[0mC:\\Users\\DM\\Documents\\yh\\AIFFELthon\\data\\custom\\custom_image_ver3\\data\\final\\train\\images\\yt-dbDRWx5i4Ew-0031_jpg.rf.f74bef3140e7b361432b71a0e1c02074.jpg: ignoring corrupt image/label: Label class 1 exceeds dataset class count 1. Possible class labels are 0-0\n",
      "\u001b[34m\u001b[1mtrain: \u001b[0mC:\\Users\\DM\\Documents\\yh\\AIFFELthon\\data\\custom\\custom_image_ver3\\data\\final\\train\\images\\yt-dbDRWx5i4Ew-0056_jpg.rf.7d60ed972521884b3628aaa92a7d4ed5.jpg: ignoring corrupt image/label: Label class 1 exceeds dataset class count 1. Possible class labels are 0-0\n",
      "\u001b[34m\u001b[1mtrain: \u001b[0mC:\\Users\\DM\\Documents\\yh\\AIFFELthon\\data\\custom\\custom_image_ver3\\data\\final\\train\\images\\yt-dbDRWx5i4Ew-0056_jpg.rf.f7ed5a289914828592660ad6b9bb93fb.jpg: ignoring corrupt image/label: Label class 1 exceeds dataset class count 1. Possible class labels are 0-0\n",
      "\u001b[34m\u001b[1mtrain: \u001b[0mC:\\Users\\DM\\Documents\\yh\\AIFFELthon\\data\\custom\\custom_image_ver3\\data\\final\\train\\images\\yt-dbDRWx5i4Ew-0057_jpg.rf.326854c33cdc0fe011d4e1083bb5ad37.jpg: ignoring corrupt image/label: Label class 1 exceeds dataset class count 1. Possible class labels are 0-0\n",
      "\u001b[34m\u001b[1mtrain: \u001b[0mC:\\Users\\DM\\Documents\\yh\\AIFFELthon\\data\\custom\\custom_image_ver3\\data\\final\\train\\images\\yt-dbDRWx5i4Ew-0114_jpg.rf.28e4f94cb97427387b6a174df63ec078.jpg: ignoring corrupt image/label: Label class 1 exceeds dataset class count 1. Possible class labels are 0-0\n",
      "\u001b[34m\u001b[1mtrain: \u001b[0mC:\\Users\\DM\\Documents\\yh\\AIFFELthon\\data\\custom\\custom_image_ver3\\data\\final\\train\\images\\yt-dbDRWx5i4Ew-0120_jpg.rf.d050ef5a916d7ccc641dc2a95d8c4fb6.jpg: ignoring corrupt image/label: Label class 1 exceeds dataset class count 1. Possible class labels are 0-0\n",
      "\u001b[34m\u001b[1mtrain: \u001b[0mC:\\Users\\DM\\Documents\\yh\\AIFFELthon\\data\\custom\\custom_image_ver3\\data\\final\\train\\images\\yt-dbDRWx5i4Ew-0120_jpg.rf.d69cd9c90b4eab0572c4de629c4b3da8.jpg: ignoring corrupt image/label: Label class 1 exceeds dataset class count 1. Possible class labels are 0-0\n",
      "\u001b[34m\u001b[1mtrain: \u001b[0mC:\\Users\\DM\\Documents\\yh\\AIFFELthon\\data\\custom\\custom_image_ver3\\data\\final\\train\\images\\yt-dbDRWx5i4Ew-0147_jpg.rf.865712065bfbfad9c8eb10ec85efe9b6.jpg: ignoring corrupt image/label: Label class 1 exceeds dataset class count 1. Possible class labels are 0-0\n",
      "\u001b[34m\u001b[1mtrain: \u001b[0mC:\\Users\\DM\\Documents\\yh\\AIFFELthon\\data\\custom\\custom_image_ver3\\data\\final\\train\\images\\yt-dbDRWx5i4Ew-0148_jpg.rf.ea881a33b6cfabca0ee972bae71654fd.jpg: ignoring corrupt image/label: Label class 1 exceeds dataset class count 1. Possible class labels are 0-0\n",
      "\u001b[34m\u001b[1mtrain: \u001b[0mC:\\Users\\DM\\Documents\\yh\\AIFFELthon\\data\\custom\\custom_image_ver3\\data\\final\\train\\images\\yt-vR2Grj1f0VE-0122_jpg.rf.354df76abae8732d5f0c6a6d5a24efc9.jpg: ignoring corrupt image/label: Label class 1 exceeds dataset class count 1. Possible class labels are 0-0\n",
      "\u001b[34m\u001b[1mtrain: \u001b[0mC:\\Users\\DM\\Documents\\yh\\AIFFELthon\\data\\custom\\custom_image_ver3\\data\\final\\train\\images\\yt-vR2Grj1f0VE-0122_jpg.rf.85438e92b1dbb12a394af28b748ca478.jpg: ignoring corrupt image/label: Label class 1 exceeds dataset class count 1. Possible class labels are 0-0\n"
     ]
    },
    {
     "name": "stderr",
     "output_type": "stream",
     "text": [
      "\n"
     ]
    },
    {
     "name": "stdout",
     "output_type": "stream",
     "text": [
      "\u001b[34m\u001b[1mval: \u001b[0mFast image access  (ping: 0.10.0 ms, read: 576.2241.3 MB/s, size: 142.1 KB)\n"
     ]
    },
    {
     "name": "stderr",
     "output_type": "stream",
     "text": [
      "\u001b[34m\u001b[1mval: \u001b[0mScanning C:\\Users\\DM\\Documents\\yh\\AIFFELthon\\data\\custom\\custom_image_ver3\\data\\final\\val\\labels.cache... 2686 images, 3 backgrounds, 10 corrupt: 100%|██████████| 2686/2686 [00:00<?, ?it/s]"
     ]
    },
    {
     "name": "stdout",
     "output_type": "stream",
     "text": [
      "\u001b[34m\u001b[1mval: \u001b[0mC:\\Users\\DM\\Documents\\yh\\AIFFELthon\\data\\custom\\custom_image_ver3\\data\\final\\val\\images\\1_-impact_JPG.rf.47cdc3b7724e0193dc144be218f72e3a.jpg: ignoring corrupt image/label: Label class 1 exceeds dataset class count 1. Possible class labels are 0-0\n",
      "\u001b[34m\u001b[1mval: \u001b[0mC:\\Users\\DM\\Documents\\yh\\AIFFELthon\\data\\custom\\custom_image_ver3\\data\\final\\val\\images\\34cdfa8e-b514-457b-a57d-be996dca8cf7_frame_1606_jpg.rf.a41dbaa9e64cfd199fead8b0dbed582e.jpg: 1 duplicate labels removed\n",
      "\u001b[34m\u001b[1mval: \u001b[0mC:\\Users\\DM\\Documents\\yh\\AIFFELthon\\data\\custom\\custom_image_ver3\\data\\final\\val\\images\\d94438da-7e48-488b-93a4-bb9426a6c152_frame_1620_jpg.rf.0f4667f9d776c634fe5da2b7bf768e76.jpg: 2 duplicate labels removed\n",
      "\u001b[34m\u001b[1mval: \u001b[0mC:\\Users\\DM\\Documents\\yh\\AIFFELthon\\data\\custom\\custom_image_ver3\\data\\final\\val\\images\\tiktok11_mp4-0077_jpg.rf.9b39cc1a53af5c18d94dddb14d71367d.jpg: ignoring corrupt image/label: Label class 1 exceeds dataset class count 1. Possible class labels are 0-0\n",
      "\u001b[34m\u001b[1mval: \u001b[0mC:\\Users\\DM\\Documents\\yh\\AIFFELthon\\data\\custom\\custom_image_ver3\\data\\final\\val\\images\\tiktok11_mp4-0077_jpg.rf.b616654bb47700c09646d03e94e553bd.jpg: ignoring corrupt image/label: Label class 1 exceeds dataset class count 1. Possible class labels are 0-0\n",
      "\u001b[34m\u001b[1mval: \u001b[0mC:\\Users\\DM\\Documents\\yh\\AIFFELthon\\data\\custom\\custom_image_ver3\\data\\final\\val\\images\\tiktok2_mov-0054_jpg.rf.4ca97f242667918aacb5f799eb895fb4.jpg: ignoring corrupt image/label: Label class 1 exceeds dataset class count 1. Possible class labels are 0-0\n",
      "\u001b[34m\u001b[1mval: \u001b[0mC:\\Users\\DM\\Documents\\yh\\AIFFELthon\\data\\custom\\custom_image_ver3\\data\\final\\val\\images\\tiktok3_mov-0023_jpg.rf.5c28d0d2cf8ad6843419a7a352f0234a.jpg: ignoring corrupt image/label: Label class 1 exceeds dataset class count 1. Possible class labels are 0-0\n",
      "\u001b[34m\u001b[1mval: \u001b[0mC:\\Users\\DM\\Documents\\yh\\AIFFELthon\\data\\custom\\custom_image_ver3\\data\\final\\val\\images\\tiktok7_mp4-0050_jpg.rf.61f8ae5100d61d77e42971037cb07f9c.jpg: ignoring corrupt image/label: Label class 1 exceeds dataset class count 1. Possible class labels are 0-0\n",
      "\u001b[34m\u001b[1mval: \u001b[0mC:\\Users\\DM\\Documents\\yh\\AIFFELthon\\data\\custom\\custom_image_ver3\\data\\final\\val\\images\\yt-dbDRWx5i4Ew-0057_jpg.rf.d83bd51660a4b3b7c53207999581a9bb.jpg: ignoring corrupt image/label: Label class 1 exceeds dataset class count 1. Possible class labels are 0-0\n",
      "\u001b[34m\u001b[1mval: \u001b[0mC:\\Users\\DM\\Documents\\yh\\AIFFELthon\\data\\custom\\custom_image_ver3\\data\\final\\val\\images\\yt-dbDRWx5i4Ew-0114_jpg.rf.ca53824ccc3a9f9acbf27c0ea27006c5.jpg: ignoring corrupt image/label: Label class 1 exceeds dataset class count 1. Possible class labels are 0-0\n",
      "\u001b[34m\u001b[1mval: \u001b[0mC:\\Users\\DM\\Documents\\yh\\AIFFELthon\\data\\custom\\custom_image_ver3\\data\\final\\val\\images\\yt-dbDRWx5i4Ew-0143_jpg.rf.ecea624122f7b7f983b472581faeb0de.jpg: ignoring corrupt image/label: Label class 1 exceeds dataset class count 1. Possible class labels are 0-0\n",
      "\u001b[34m\u001b[1mval: \u001b[0mC:\\Users\\DM\\Documents\\yh\\AIFFELthon\\data\\custom\\custom_image_ver3\\data\\final\\val\\images\\yt-dbDRWx5i4Ew-0148_jpg.rf.32d99022f4af6a651fd20b53cee46ef3.jpg: ignoring corrupt image/label: Label class 1 exceeds dataset class count 1. Possible class labels are 0-0\n"
     ]
    },
    {
     "name": "stderr",
     "output_type": "stream",
     "text": [
      "\n"
     ]
    },
    {
     "name": "stdout",
     "output_type": "stream",
     "text": [
      "Plotting labels to runs\\detect\\train4\\labels.jpg... \n",
      "\u001b[34m\u001b[1moptimizer:\u001b[0m Adam(lr=0.0005, momentum=0.937) with parameter groups 57 weight(decay=0.0), 64 weight(decay=0.000515625), 63 bias(decay=0.0)\n",
      "Image sizes 960 train, 960 val\n",
      "Using 8 dataloader workers\n",
      "Logging results to \u001b[1mruns\\detect\\train4\u001b[0m\n",
      "Starting training for 50 epochs...\n",
      "\n",
      "      Epoch    GPU_mem   box_loss   cls_loss   dfl_loss  Instances       Size\n"
     ]
    },
    {
     "name": "stderr",
     "output_type": "stream",
     "text": [
      "       1/50      3.05G     0.8793      0.514     0.9057         12        960: 100%|██████████| 1592/1592 [04:16<00:00,  6.20it/s]\n",
      "                 Class     Images  Instances      Box(P          R      mAP50  mAP50-95): 100%|██████████| 223/223 [00:27<00:00,  8.00it/s]"
     ]
    },
    {
     "name": "stdout",
     "output_type": "stream",
     "text": [
      "                   all       2676       3160      0.938      0.888      0.939      0.701\n"
     ]
    },
    {
     "name": "stderr",
     "output_type": "stream",
     "text": [
      "\n"
     ]
    },
    {
     "name": "stdout",
     "output_type": "stream",
     "text": [
      "\n",
      "      Epoch    GPU_mem   box_loss   cls_loss   dfl_loss  Instances       Size\n"
     ]
    },
    {
     "name": "stderr",
     "output_type": "stream",
     "text": [
      "       2/50      3.84G     0.8668     0.4947      0.905          9        960: 100%|██████████| 1592/1592 [04:20<00:00,  6.12it/s]\n",
      "                 Class     Images  Instances      Box(P          R      mAP50  mAP50-95): 100%|██████████| 223/223 [00:26<00:00,  8.51it/s]"
     ]
    },
    {
     "name": "stdout",
     "output_type": "stream",
     "text": [
      "                   all       2676       3160      0.926      0.888      0.935      0.695\n"
     ]
    },
    {
     "name": "stderr",
     "output_type": "stream",
     "text": [
      "\n"
     ]
    },
    {
     "name": "stdout",
     "output_type": "stream",
     "text": [
      "\n",
      "      Epoch    GPU_mem   box_loss   cls_loss   dfl_loss  Instances       Size\n"
     ]
    },
    {
     "name": "stderr",
     "output_type": "stream",
     "text": [
      "       3/50      3.84G     0.8958     0.5202     0.9162         18        960: 100%|██████████| 1592/1592 [04:20<00:00,  6.12it/s]\n",
      "                 Class     Images  Instances      Box(P          R      mAP50  mAP50-95): 100%|██████████| 223/223 [00:26<00:00,  8.38it/s]"
     ]
    },
    {
     "name": "stdout",
     "output_type": "stream",
     "text": [
      "                   all       2676       3160      0.931      0.891      0.935      0.687\n"
     ]
    },
    {
     "name": "stderr",
     "output_type": "stream",
     "text": [
      "\n"
     ]
    },
    {
     "name": "stdout",
     "output_type": "stream",
     "text": [
      "\n",
      "      Epoch    GPU_mem   box_loss   cls_loss   dfl_loss  Instances       Size\n"
     ]
    },
    {
     "name": "stderr",
     "output_type": "stream",
     "text": [
      "       4/50      3.84G     0.8864     0.5159     0.9125         12        960: 100%|██████████| 1592/1592 [04:19<00:00,  6.13it/s]\n",
      "                 Class     Images  Instances      Box(P          R      mAP50  mAP50-95): 100%|██████████| 223/223 [00:26<00:00,  8.43it/s]"
     ]
    },
    {
     "name": "stdout",
     "output_type": "stream",
     "text": [
      "                   all       2676       3160      0.932      0.891      0.935       0.69\n"
     ]
    },
    {
     "name": "stderr",
     "output_type": "stream",
     "text": [
      "\n"
     ]
    },
    {
     "name": "stdout",
     "output_type": "stream",
     "text": [
      "\n",
      "      Epoch    GPU_mem   box_loss   cls_loss   dfl_loss  Instances       Size\n"
     ]
    },
    {
     "name": "stderr",
     "output_type": "stream",
     "text": [
      "       5/50      3.84G     0.8849     0.5094     0.9135          9        960: 100%|██████████| 1592/1592 [04:11<00:00,  6.32it/s]\n",
      "                 Class     Images  Instances      Box(P          R      mAP50  mAP50-95): 100%|██████████| 223/223 [00:26<00:00,  8.50it/s]"
     ]
    },
    {
     "name": "stdout",
     "output_type": "stream",
     "text": [
      "                   all       2676       3160      0.937      0.888      0.935      0.683\n"
     ]
    },
    {
     "name": "stderr",
     "output_type": "stream",
     "text": [
      "\n"
     ]
    },
    {
     "name": "stdout",
     "output_type": "stream",
     "text": [
      "\n",
      "      Epoch    GPU_mem   box_loss   cls_loss   dfl_loss  Instances       Size\n"
     ]
    },
    {
     "name": "stderr",
     "output_type": "stream",
     "text": [
      "       6/50      3.84G     0.8936     0.5099     0.9128         10        960: 100%|██████████| 1592/1592 [04:11<00:00,  6.32it/s]\n",
      "                 Class     Images  Instances      Box(P          R      mAP50  mAP50-95): 100%|██████████| 223/223 [00:26<00:00,  8.58it/s]"
     ]
    },
    {
     "name": "stdout",
     "output_type": "stream",
     "text": [
      "                   all       2676       3160      0.933      0.894      0.936      0.692\n",
      "\u001b[34m\u001b[1mEarlyStopping: \u001b[0mTraining stopped early as no improvement observed in last 5 epochs. Best results observed at epoch 1, best model saved as best.pt.\n",
      "To update EarlyStopping(patience=5) pass a new patience value, i.e. `patience=300` or use `patience=0` to disable EarlyStopping.\n"
     ]
    },
    {
     "name": "stderr",
     "output_type": "stream",
     "text": [
      "\n"
     ]
    },
    {
     "name": "stdout",
     "output_type": "stream",
     "text": [
      "\n",
      "6 epochs completed in 0.473 hours.\n",
      "Optimizer stripped from runs\\detect\\train4\\weights\\last.pt, 22.6MB\n",
      "Optimizer stripped from runs\\detect\\train4\\weights\\best.pt, 22.6MB\n",
      "\n",
      "Validating runs\\detect\\train4\\weights\\best.pt...\n",
      "Ultralytics 8.3.129  Python-3.10.16 torch-2.5.1+cu121 CUDA:0 (NVIDIA GeForce RTX 2070 SUPER, 8192MiB)\n",
      "Model summary (fused): 72 layers, 11,125,971 parameters, 0 gradients, 28.4 GFLOPs\n"
     ]
    },
    {
     "name": "stderr",
     "output_type": "stream",
     "text": [
      "                 Class     Images  Instances      Box(P          R      mAP50  mAP50-95): 100%|██████████| 223/223 [00:24<00:00,  8.98it/s]\n"
     ]
    },
    {
     "name": "stdout",
     "output_type": "stream",
     "text": [
      "                   all       2676       3160      0.937      0.888      0.939      0.701\n",
      "Speed: 0.3ms preprocess, 5.1ms inference, 0.0ms loss, 1.1ms postprocess per image\n",
      "Results saved to \u001b[1mruns\\detect\\train4\u001b[0m\n"
     ]
    },
    {
     "data": {
      "text/plain": [
       "ultralytics.utils.metrics.DetMetrics object with attributes:\n",
       "\n",
       "ap_class_index: array([0])\n",
       "box: ultralytics.utils.metrics.Metric object\n",
       "confusion_matrix: <ultralytics.utils.metrics.ConfusionMatrix object at 0x00000203B378AE00>\n",
       "curves: ['Precision-Recall(B)', 'F1-Confidence(B)', 'Precision-Confidence(B)', 'Recall-Confidence(B)']\n",
       "curves_results: [[array([          0,    0.001001,    0.002002,    0.003003,    0.004004,    0.005005,    0.006006,    0.007007,    0.008008,    0.009009,     0.01001,    0.011011,    0.012012,    0.013013,    0.014014,    0.015015,    0.016016,    0.017017,    0.018018,    0.019019,     0.02002,    0.021021,    0.022022,    0.023023,\n",
       "          0.024024,    0.025025,    0.026026,    0.027027,    0.028028,    0.029029,     0.03003,    0.031031,    0.032032,    0.033033,    0.034034,    0.035035,    0.036036,    0.037037,    0.038038,    0.039039,     0.04004,    0.041041,    0.042042,    0.043043,    0.044044,    0.045045,    0.046046,    0.047047,\n",
       "          0.048048,    0.049049,     0.05005,    0.051051,    0.052052,    0.053053,    0.054054,    0.055055,    0.056056,    0.057057,    0.058058,    0.059059,     0.06006,    0.061061,    0.062062,    0.063063,    0.064064,    0.065065,    0.066066,    0.067067,    0.068068,    0.069069,     0.07007,    0.071071,\n",
       "          0.072072,    0.073073,    0.074074,    0.075075,    0.076076,    0.077077,    0.078078,    0.079079,     0.08008,    0.081081,    0.082082,    0.083083,    0.084084,    0.085085,    0.086086,    0.087087,    0.088088,    0.089089,     0.09009,    0.091091,    0.092092,    0.093093,    0.094094,    0.095095,\n",
       "          0.096096,    0.097097,    0.098098,    0.099099,      0.1001,      0.1011,      0.1021,      0.1031,      0.1041,     0.10511,     0.10611,     0.10711,     0.10811,     0.10911,     0.11011,     0.11111,     0.11211,     0.11311,     0.11411,     0.11512,     0.11612,     0.11712,     0.11812,     0.11912,\n",
       "           0.12012,     0.12112,     0.12212,     0.12312,     0.12412,     0.12513,     0.12613,     0.12713,     0.12813,     0.12913,     0.13013,     0.13113,     0.13213,     0.13313,     0.13413,     0.13514,     0.13614,     0.13714,     0.13814,     0.13914,     0.14014,     0.14114,     0.14214,     0.14314,\n",
       "           0.14414,     0.14515,     0.14615,     0.14715,     0.14815,     0.14915,     0.15015,     0.15115,     0.15215,     0.15315,     0.15415,     0.15516,     0.15616,     0.15716,     0.15816,     0.15916,     0.16016,     0.16116,     0.16216,     0.16316,     0.16416,     0.16517,     0.16617,     0.16717,\n",
       "           0.16817,     0.16917,     0.17017,     0.17117,     0.17217,     0.17317,     0.17417,     0.17518,     0.17618,     0.17718,     0.17818,     0.17918,     0.18018,     0.18118,     0.18218,     0.18318,     0.18418,     0.18519,     0.18619,     0.18719,     0.18819,     0.18919,     0.19019,     0.19119,\n",
       "           0.19219,     0.19319,     0.19419,      0.1952,      0.1962,      0.1972,      0.1982,      0.1992,      0.2002,      0.2012,      0.2022,      0.2032,      0.2042,     0.20521,     0.20621,     0.20721,     0.20821,     0.20921,     0.21021,     0.21121,     0.21221,     0.21321,     0.21421,     0.21522,\n",
       "           0.21622,     0.21722,     0.21822,     0.21922,     0.22022,     0.22122,     0.22222,     0.22322,     0.22422,     0.22523,     0.22623,     0.22723,     0.22823,     0.22923,     0.23023,     0.23123,     0.23223,     0.23323,     0.23423,     0.23524,     0.23624,     0.23724,     0.23824,     0.23924,\n",
       "           0.24024,     0.24124,     0.24224,     0.24324,     0.24424,     0.24525,     0.24625,     0.24725,     0.24825,     0.24925,     0.25025,     0.25125,     0.25225,     0.25325,     0.25425,     0.25526,     0.25626,     0.25726,     0.25826,     0.25926,     0.26026,     0.26126,     0.26226,     0.26326,\n",
       "           0.26426,     0.26527,     0.26627,     0.26727,     0.26827,     0.26927,     0.27027,     0.27127,     0.27227,     0.27327,     0.27427,     0.27528,     0.27628,     0.27728,     0.27828,     0.27928,     0.28028,     0.28128,     0.28228,     0.28328,     0.28428,     0.28529,     0.28629,     0.28729,\n",
       "           0.28829,     0.28929,     0.29029,     0.29129,     0.29229,     0.29329,     0.29429,      0.2953,      0.2963,      0.2973,      0.2983,      0.2993,      0.3003,      0.3013,      0.3023,      0.3033,      0.3043,     0.30531,     0.30631,     0.30731,     0.30831,     0.30931,     0.31031,     0.31131,\n",
       "           0.31231,     0.31331,     0.31431,     0.31532,     0.31632,     0.31732,     0.31832,     0.31932,     0.32032,     0.32132,     0.32232,     0.32332,     0.32432,     0.32533,     0.32633,     0.32733,     0.32833,     0.32933,     0.33033,     0.33133,     0.33233,     0.33333,     0.33433,     0.33534,\n",
       "           0.33634,     0.33734,     0.33834,     0.33934,     0.34034,     0.34134,     0.34234,     0.34334,     0.34434,     0.34535,     0.34635,     0.34735,     0.34835,     0.34935,     0.35035,     0.35135,     0.35235,     0.35335,     0.35435,     0.35536,     0.35636,     0.35736,     0.35836,     0.35936,\n",
       "           0.36036,     0.36136,     0.36236,     0.36336,     0.36436,     0.36537,     0.36637,     0.36737,     0.36837,     0.36937,     0.37037,     0.37137,     0.37237,     0.37337,     0.37437,     0.37538,     0.37638,     0.37738,     0.37838,     0.37938,     0.38038,     0.38138,     0.38238,     0.38338,\n",
       "           0.38438,     0.38539,     0.38639,     0.38739,     0.38839,     0.38939,     0.39039,     0.39139,     0.39239,     0.39339,     0.39439,      0.3954,      0.3964,      0.3974,      0.3984,      0.3994,      0.4004,      0.4014,      0.4024,      0.4034,      0.4044,     0.40541,     0.40641,     0.40741,\n",
       "           0.40841,     0.40941,     0.41041,     0.41141,     0.41241,     0.41341,     0.41441,     0.41542,     0.41642,     0.41742,     0.41842,     0.41942,     0.42042,     0.42142,     0.42242,     0.42342,     0.42442,     0.42543,     0.42643,     0.42743,     0.42843,     0.42943,     0.43043,     0.43143,\n",
       "           0.43243,     0.43343,     0.43443,     0.43544,     0.43644,     0.43744,     0.43844,     0.43944,     0.44044,     0.44144,     0.44244,     0.44344,     0.44444,     0.44545,     0.44645,     0.44745,     0.44845,     0.44945,     0.45045,     0.45145,     0.45245,     0.45345,     0.45445,     0.45546,\n",
       "           0.45646,     0.45746,     0.45846,     0.45946,     0.46046,     0.46146,     0.46246,     0.46346,     0.46446,     0.46547,     0.46647,     0.46747,     0.46847,     0.46947,     0.47047,     0.47147,     0.47247,     0.47347,     0.47447,     0.47548,     0.47648,     0.47748,     0.47848,     0.47948,\n",
       "           0.48048,     0.48148,     0.48248,     0.48348,     0.48448,     0.48549,     0.48649,     0.48749,     0.48849,     0.48949,     0.49049,     0.49149,     0.49249,     0.49349,     0.49449,      0.4955,      0.4965,      0.4975,      0.4985,      0.4995,      0.5005,      0.5015,      0.5025,      0.5035,\n",
       "            0.5045,     0.50551,     0.50651,     0.50751,     0.50851,     0.50951,     0.51051,     0.51151,     0.51251,     0.51351,     0.51451,     0.51552,     0.51652,     0.51752,     0.51852,     0.51952,     0.52052,     0.52152,     0.52252,     0.52352,     0.52452,     0.52553,     0.52653,     0.52753,\n",
       "           0.52853,     0.52953,     0.53053,     0.53153,     0.53253,     0.53353,     0.53453,     0.53554,     0.53654,     0.53754,     0.53854,     0.53954,     0.54054,     0.54154,     0.54254,     0.54354,     0.54454,     0.54555,     0.54655,     0.54755,     0.54855,     0.54955,     0.55055,     0.55155,\n",
       "           0.55255,     0.55355,     0.55455,     0.55556,     0.55656,     0.55756,     0.55856,     0.55956,     0.56056,     0.56156,     0.56256,     0.56356,     0.56456,     0.56557,     0.56657,     0.56757,     0.56857,     0.56957,     0.57057,     0.57157,     0.57257,     0.57357,     0.57457,     0.57558,\n",
       "           0.57658,     0.57758,     0.57858,     0.57958,     0.58058,     0.58158,     0.58258,     0.58358,     0.58458,     0.58559,     0.58659,     0.58759,     0.58859,     0.58959,     0.59059,     0.59159,     0.59259,     0.59359,     0.59459,      0.5956,      0.5966,      0.5976,      0.5986,      0.5996,\n",
       "            0.6006,      0.6016,      0.6026,      0.6036,      0.6046,     0.60561,     0.60661,     0.60761,     0.60861,     0.60961,     0.61061,     0.61161,     0.61261,     0.61361,     0.61461,     0.61562,     0.61662,     0.61762,     0.61862,     0.61962,     0.62062,     0.62162,     0.62262,     0.62362,\n",
       "           0.62462,     0.62563,     0.62663,     0.62763,     0.62863,     0.62963,     0.63063,     0.63163,     0.63263,     0.63363,     0.63463,     0.63564,     0.63664,     0.63764,     0.63864,     0.63964,     0.64064,     0.64164,     0.64264,     0.64364,     0.64464,     0.64565,     0.64665,     0.64765,\n",
       "           0.64865,     0.64965,     0.65065,     0.65165,     0.65265,     0.65365,     0.65465,     0.65566,     0.65666,     0.65766,     0.65866,     0.65966,     0.66066,     0.66166,     0.66266,     0.66366,     0.66466,     0.66567,     0.66667,     0.66767,     0.66867,     0.66967,     0.67067,     0.67167,\n",
       "           0.67267,     0.67367,     0.67467,     0.67568,     0.67668,     0.67768,     0.67868,     0.67968,     0.68068,     0.68168,     0.68268,     0.68368,     0.68468,     0.68569,     0.68669,     0.68769,     0.68869,     0.68969,     0.69069,     0.69169,     0.69269,     0.69369,     0.69469,      0.6957,\n",
       "            0.6967,      0.6977,      0.6987,      0.6997,      0.7007,      0.7017,      0.7027,      0.7037,      0.7047,     0.70571,     0.70671,     0.70771,     0.70871,     0.70971,     0.71071,     0.71171,     0.71271,     0.71371,     0.71471,     0.71572,     0.71672,     0.71772,     0.71872,     0.71972,\n",
       "           0.72072,     0.72172,     0.72272,     0.72372,     0.72472,     0.72573,     0.72673,     0.72773,     0.72873,     0.72973,     0.73073,     0.73173,     0.73273,     0.73373,     0.73473,     0.73574,     0.73674,     0.73774,     0.73874,     0.73974,     0.74074,     0.74174,     0.74274,     0.74374,\n",
       "           0.74474,     0.74575,     0.74675,     0.74775,     0.74875,     0.74975,     0.75075,     0.75175,     0.75275,     0.75375,     0.75475,     0.75576,     0.75676,     0.75776,     0.75876,     0.75976,     0.76076,     0.76176,     0.76276,     0.76376,     0.76476,     0.76577,     0.76677,     0.76777,\n",
       "           0.76877,     0.76977,     0.77077,     0.77177,     0.77277,     0.77377,     0.77477,     0.77578,     0.77678,     0.77778,     0.77878,     0.77978,     0.78078,     0.78178,     0.78278,     0.78378,     0.78478,     0.78579,     0.78679,     0.78779,     0.78879,     0.78979,     0.79079,     0.79179,\n",
       "           0.79279,     0.79379,     0.79479,      0.7958,      0.7968,      0.7978,      0.7988,      0.7998,      0.8008,      0.8018,      0.8028,      0.8038,      0.8048,     0.80581,     0.80681,     0.80781,     0.80881,     0.80981,     0.81081,     0.81181,     0.81281,     0.81381,     0.81481,     0.81582,\n",
       "           0.81682,     0.81782,     0.81882,     0.81982,     0.82082,     0.82182,     0.82282,     0.82382,     0.82482,     0.82583,     0.82683,     0.82783,     0.82883,     0.82983,     0.83083,     0.83183,     0.83283,     0.83383,     0.83483,     0.83584,     0.83684,     0.83784,     0.83884,     0.83984,\n",
       "           0.84084,     0.84184,     0.84284,     0.84384,     0.84484,     0.84585,     0.84685,     0.84785,     0.84885,     0.84985,     0.85085,     0.85185,     0.85285,     0.85385,     0.85485,     0.85586,     0.85686,     0.85786,     0.85886,     0.85986,     0.86086,     0.86186,     0.86286,     0.86386,\n",
       "           0.86486,     0.86587,     0.86687,     0.86787,     0.86887,     0.86987,     0.87087,     0.87187,     0.87287,     0.87387,     0.87487,     0.87588,     0.87688,     0.87788,     0.87888,     0.87988,     0.88088,     0.88188,     0.88288,     0.88388,     0.88488,     0.88589,     0.88689,     0.88789,\n",
       "           0.88889,     0.88989,     0.89089,     0.89189,     0.89289,     0.89389,     0.89489,      0.8959,      0.8969,      0.8979,      0.8989,      0.8999,      0.9009,      0.9019,      0.9029,      0.9039,      0.9049,     0.90591,     0.90691,     0.90791,     0.90891,     0.90991,     0.91091,     0.91191,\n",
       "           0.91291,     0.91391,     0.91491,     0.91592,     0.91692,     0.91792,     0.91892,     0.91992,     0.92092,     0.92192,     0.92292,     0.92392,     0.92492,     0.92593,     0.92693,     0.92793,     0.92893,     0.92993,     0.93093,     0.93193,     0.93293,     0.93393,     0.93493,     0.93594,\n",
       "           0.93694,     0.93794,     0.93894,     0.93994,     0.94094,     0.94194,     0.94294,     0.94394,     0.94494,     0.94595,     0.94695,     0.94795,     0.94895,     0.94995,     0.95095,     0.95195,     0.95295,     0.95395,     0.95495,     0.95596,     0.95696,     0.95796,     0.95896,     0.95996,\n",
       "           0.96096,     0.96196,     0.96296,     0.96396,     0.96496,     0.96597,     0.96697,     0.96797,     0.96897,     0.96997,     0.97097,     0.97197,     0.97297,     0.97397,     0.97497,     0.97598,     0.97698,     0.97798,     0.97898,     0.97998,     0.98098,     0.98198,     0.98298,     0.98398,\n",
       "           0.98498,     0.98599,     0.98699,     0.98799,     0.98899,     0.98999,     0.99099,     0.99199,     0.99299,     0.99399,     0.99499,       0.996,       0.997,       0.998,       0.999,           1]), array([[          1,           1,           1,           1,           1,           1,           1,           1,           1,           1,           1,           1,           1,           1,           1,           1,           1,           1,           1,           1,           1,           1,           1,\n",
       "                  1,           1,     0.99853,     0.99853,     0.99853,     0.99853,     0.99853,     0.99853,     0.99853,     0.99853,     0.99853,     0.99853,     0.99853,     0.99853,     0.99853,     0.99853,     0.99853,     0.99853,     0.99853,     0.99853,     0.99853,     0.99853,     0.99853,\n",
       "            0.99853,     0.99853,     0.99853,     0.99853,     0.99853,     0.99853,     0.99853,     0.99853,     0.99853,     0.99853,     0.99853,     0.99853,     0.99853,     0.99853,     0.99853,     0.99853,     0.99853,     0.99853,     0.99853,     0.99853,     0.99853,     0.99853,     0.99853,\n",
       "            0.99853,     0.99853,     0.99853,     0.99853,     0.99853,     0.99853,     0.99853,     0.99853,     0.99853,     0.99853,     0.99853,     0.99853,     0.99853,     0.99853,     0.99853,     0.99853,     0.99853,     0.99853,     0.99853,     0.99853,     0.99853,     0.99853,     0.99853,\n",
       "            0.99853,     0.99853,     0.99853,     0.99853,     0.99853,     0.99853,     0.99853,     0.99853,     0.99853,     0.99853,     0.99853,     0.99853,     0.99853,     0.99853,     0.99853,     0.99853,     0.99853,     0.99853,     0.99853,     0.99853,     0.99853,     0.99853,     0.99853,\n",
       "            0.99853,     0.99853,     0.99853,     0.99853,     0.99853,     0.99853,     0.99853,     0.99853,     0.99853,     0.99853,     0.99853,     0.99853,     0.99853,     0.99853,     0.99853,     0.99853,     0.99853,     0.99853,     0.99853,     0.99853,     0.99853,     0.99853,     0.99853,\n",
       "            0.99853,     0.99853,     0.99853,     0.99853,     0.99853,     0.99853,     0.99853,     0.99853,     0.99853,     0.99853,     0.99853,     0.99853,     0.99853,     0.99853,     0.99853,     0.99853,     0.99853,     0.99853,     0.99853,     0.99853,     0.99853,     0.99853,     0.99853,\n",
       "            0.99853,     0.99853,     0.99853,     0.99853,     0.99853,     0.99853,     0.99853,     0.99853,     0.99853,     0.99853,     0.99853,     0.99853,     0.99853,     0.99853,     0.99853,     0.99853,     0.99853,     0.99853,     0.99853,     0.99853,     0.99853,     0.99853,     0.99853,\n",
       "            0.99853,     0.99853,     0.99853,     0.99853,     0.99853,     0.99853,     0.99853,     0.99853,     0.99853,     0.99853,     0.99853,     0.99853,     0.99853,     0.99853,     0.99853,     0.99853,     0.99853,     0.99853,     0.99853,     0.99853,     0.99853,     0.99853,     0.99853,\n",
       "            0.99853,     0.99853,     0.99853,     0.99853,     0.99853,     0.99853,     0.99853,     0.99853,     0.99726,     0.99726,     0.99726,     0.99726,     0.99726,     0.99726,     0.99726,     0.99726,     0.99726,     0.99726,     0.99726,     0.99726,     0.99726,     0.99726,     0.99726,\n",
       "            0.99726,     0.99687,     0.99687,     0.99687,     0.99687,     0.99687,     0.99687,     0.99687,     0.99687,     0.99687,     0.99687,     0.99687,     0.99687,     0.99687,     0.99687,     0.99687,     0.99687,     0.99687,     0.99687,     0.99687,     0.99687,     0.99687,     0.99687,\n",
       "            0.99687,     0.99687,     0.99687,     0.99687,     0.99687,     0.99687,     0.99687,     0.99687,     0.99687,     0.99687,     0.99687,     0.99687,     0.99687,     0.99687,     0.99687,     0.99687,     0.99687,     0.99687,     0.99687,     0.99687,     0.99687,     0.99687,     0.99687,\n",
       "            0.99687,     0.99687,     0.99687,     0.99687,     0.99687,     0.99687,     0.99687,     0.99687,     0.99687,     0.99687,     0.99687,     0.99687,     0.99687,     0.99687,     0.99687,     0.99687,     0.99687,     0.99687,     0.99687,     0.99687,     0.99687,     0.99687,     0.99687,\n",
       "            0.99687,     0.99687,     0.99687,     0.99687,     0.99663,     0.99663,     0.99663,     0.99663,     0.99663,     0.99663,     0.99663,     0.99663,     0.99663,     0.99663,     0.99663,     0.99663,     0.99663,     0.99663,     0.99663,     0.99663,     0.99663,     0.99663,     0.99663,\n",
       "            0.99663,     0.99663,     0.99663,     0.99663,     0.99663,     0.99663,     0.99663,     0.99663,     0.99663,     0.99663,     0.99663,     0.99663,     0.99663,     0.99663,     0.99663,     0.99663,     0.99663,     0.99663,     0.99663,     0.99663,     0.99663,     0.99663,     0.99663,\n",
       "            0.99663,     0.99663,     0.99663,     0.99663,     0.99663,     0.99663,     0.99663,     0.99663,     0.99663,     0.99663,     0.99663,     0.99663,     0.99663,     0.99663,     0.99663,     0.99663,     0.99663,     0.99663,     0.99663,     0.99663,     0.99663,     0.99663,     0.99663,\n",
       "            0.99663,     0.99663,     0.99663,     0.99663,     0.99663,     0.99663,     0.99621,     0.99621,     0.99621,     0.99621,     0.99621,     0.99621,     0.99621,     0.99621,     0.99621,     0.99621,     0.99621,     0.99621,     0.99621,     0.99621,     0.99621,     0.99621,     0.99621,\n",
       "            0.99621,     0.99621,     0.99621,     0.99621,     0.99621,     0.99621,     0.99621,     0.99621,     0.99621,     0.99621,     0.99621,     0.99621,     0.99621,     0.99621,     0.99621,     0.99621,     0.99621,     0.99621,     0.99621,     0.99621,     0.99621,     0.99621,     0.99621,\n",
       "            0.99621,     0.99621,     0.99546,     0.99483,     0.99483,     0.99483,     0.99483,     0.99483,     0.99483,     0.99483,     0.99483,     0.99483,     0.99434,     0.99434,     0.99434,     0.99434,     0.99434,     0.99434,     0.99434,     0.99434,     0.99434,     0.99434,     0.99434,\n",
       "            0.99434,     0.99434,     0.99434,     0.99434,     0.99434,     0.99434,     0.99434,     0.99434,     0.99395,     0.99395,     0.99395,     0.99395,     0.99395,     0.99395,     0.99395,     0.99395,     0.99395,     0.99395,     0.99395,     0.99395,     0.99395,     0.99395,     0.99395,\n",
       "            0.99395,     0.99395,     0.99395,     0.99395,     0.99395,     0.99395,     0.99395,     0.99395,     0.99332,     0.99332,     0.99291,     0.99291,     0.99291,     0.99291,     0.99291,     0.99291,     0.99291,     0.99291,     0.99291,     0.99291,     0.99291,     0.99291,     0.99291,\n",
       "            0.99291,     0.99291,     0.99291,     0.99291,     0.99248,     0.99248,     0.99248,     0.99248,     0.99248,     0.99248,     0.99248,     0.99248,     0.99248,     0.99248,     0.99248,     0.99248,     0.99248,     0.99248,     0.99199,     0.99199,     0.99199,     0.99199,     0.99199,\n",
       "            0.99199,     0.99199,     0.99199,     0.99152,     0.99152,     0.99152,     0.99152,     0.99152,     0.99152,     0.99152,     0.99152,     0.99152,     0.99145,     0.99145,     0.99145,     0.99145,     0.99145,     0.99145,     0.99145,     0.99145,     0.99145,     0.99145,     0.99145,\n",
       "            0.99145,     0.99145,     0.99145,     0.99145,     0.99145,     0.99145,     0.99145,     0.99145,     0.99145,     0.99145,     0.99145,     0.99145,     0.99145,     0.99145,     0.99145,     0.99145,     0.99145,     0.99145,     0.99145,     0.99145,     0.99145,     0.99135,     0.99135,\n",
       "            0.99135,     0.99135,     0.99135,     0.99135,     0.99135,     0.99135,     0.99135,     0.99135,     0.99135,     0.99135,     0.99135,     0.99135,     0.99135,     0.99135,     0.99135,     0.99135,     0.99135,     0.99135,     0.99135,     0.99135,     0.99135,     0.99135,     0.99135,\n",
       "            0.99135,     0.99135,     0.99135,     0.99135,     0.99135,     0.99084,     0.99084,     0.99047,     0.99047,     0.99047,     0.99047,     0.99047,     0.99047,     0.99047,     0.99047,     0.99047,     0.99047,     0.99005,     0.99005,     0.99005,     0.99005,     0.99005,     0.99005,\n",
       "            0.98989,     0.98989,     0.98989,     0.98989,     0.98989,     0.98989,     0.98989,     0.98989,     0.98989,     0.98989,     0.98989,     0.98989,     0.98989,     0.98989,     0.98989,     0.98989,     0.98989,     0.98989,     0.98989,     0.98989,     0.98989,     0.98989,     0.98964,\n",
       "            0.98964,     0.98964,     0.98964,     0.98964,     0.98964,     0.98964,     0.98964,     0.98964,     0.98964,     0.98964,     0.98964,     0.98964,     0.98964,     0.98964,     0.98918,     0.98918,     0.98833,     0.98833,     0.98833,     0.98833,     0.98833,     0.98833,     0.98819,\n",
       "            0.98819,     0.98819,     0.98819,     0.98819,     0.98819,     0.98819,     0.98819,     0.98819,     0.98819,     0.98819,     0.98819,     0.98819,     0.98819,     0.98819,     0.98819,     0.98819,     0.98819,     0.98819,     0.98784,     0.98784,     0.98784,     0.98784,     0.98784,\n",
       "            0.98784,     0.98752,     0.98752,     0.98752,     0.98752,     0.98752,     0.98752,     0.98752,     0.98752,     0.98712,     0.98712,     0.98712,     0.98625,     0.98625,     0.98587,     0.98587,     0.98587,     0.98563,     0.98563,     0.98563,     0.98563,     0.98563,     0.98563,\n",
       "            0.98563,     0.98563,     0.98563,     0.98563,     0.98535,     0.98535,     0.98535,     0.98535,     0.98535,     0.98535,     0.98535,     0.98535,     0.98497,     0.98497,     0.98497,      0.9847,      0.9847,      0.9847,      0.9847,      0.9847,      0.9847,      0.9847,     0.98401,\n",
       "            0.98401,     0.98401,     0.98401,     0.98401,     0.98401,     0.98401,     0.98401,     0.98373,     0.98373,     0.98373,     0.98373,     0.98373,     0.98373,     0.98373,     0.98296,     0.98296,     0.98296,     0.98261,     0.98261,     0.98261,     0.98183,     0.98183,     0.98162,\n",
       "            0.98162,     0.98162,     0.98162,     0.98162,     0.98162,     0.98162,     0.98162,     0.98086,     0.98086,     0.98086,     0.98057,     0.98057,     0.98057,     0.98057,     0.98041,     0.98041,     0.98041,     0.98041,     0.98041,     0.98041,     0.98041,     0.98041,     0.98041,\n",
       "            0.98041,     0.98013,     0.98013,     0.98013,     0.98013,     0.98013,     0.97956,     0.97956,     0.97956,     0.97956,     0.97956,     0.97956,     0.97956,     0.97956,      0.9793,      0.9793,      0.9793,      0.9793,      0.9793,     0.97905,     0.97905,     0.97905,     0.97905,\n",
       "            0.97905,     0.97905,      0.9787,     0.97842,     0.97842,     0.97842,     0.97842,     0.97815,     0.97815,     0.97815,     0.97815,     0.97743,     0.97743,     0.97714,     0.97714,     0.97714,     0.97613,     0.97613,     0.97613,     0.97613,     0.97585,     0.97585,     0.97585,\n",
       "            0.97559,     0.97559,     0.97559,     0.97559,     0.97524,     0.97467,     0.97467,     0.97467,     0.97467,     0.97467,     0.97467,     0.97435,      0.9733,      0.9733,     0.97296,     0.97226,     0.97195,     0.97171,     0.97171,     0.97171,     0.97171,     0.97032,     0.96999,\n",
       "            0.96933,     0.96933,     0.96874,     0.96874,     0.96874,     0.96839,     0.96752,     0.96752,     0.96752,     0.96752,     0.96752,     0.96652,     0.96624,     0.96624,     0.96594,     0.96562,     0.96497,      0.9643,     0.96405,     0.96405,     0.96381,     0.96381,     0.96381,\n",
       "            0.96257,     0.96257,     0.96257,     0.96225,     0.96195,     0.96166,     0.96135,     0.96044,     0.96044,      0.9581,     0.95747,     0.95719,     0.95622,     0.95528,     0.95469,     0.95304,     0.95245,     0.95215,     0.95088,     0.94997,     0.94969,     0.94786,     0.94786,\n",
       "            0.94724,     0.94701,     0.94647,     0.94647,     0.94588,     0.94495,     0.94373,     0.94354,     0.94354,       0.943,     0.94239,     0.94183,     0.93966,     0.93662,     0.93509,     0.93331,     0.93245,     0.93131,     0.93043,     0.92989,     0.92843,     0.92579,     0.92496,\n",
       "            0.92203,     0.92153,     0.92136,     0.92136,     0.91908,     0.91768,     0.91576,     0.91432,     0.91353,     0.91132,     0.91079,     0.90745,     0.90497,     0.90254,     0.90063,      0.8968,     0.89084,     0.88933,     0.88532,     0.88005,     0.86987,     0.86557,     0.85349,\n",
       "            0.84426,     0.84249,     0.84068,     0.83668,      0.8321,     0.83031,      0.8157,     0.81067,     0.80859,     0.79929,     0.79751,     0.78849,     0.77058,     0.74791,     0.73893,     0.73019,     0.70922,     0.70287,     0.69427,     0.68189,     0.65521,     0.65242,      0.6474,\n",
       "            0.63159,     0.61436,     0.57867,     0.57184,      0.5656,       0.543,     0.51439,     0.50734,     0.49062,     0.48417,     0.46629,     0.42918,     0.42478,     0.37899,     0.35002,     0.33622,     0.31375,     0.28828,     0.27679,     0.25401,     0.23629,     0.23361,     0.21686,\n",
       "            0.19065,     0.18487,     0.17909,     0.17332,     0.16754,     0.16176,     0.15598,     0.15021,     0.14443,     0.13865,     0.13287,      0.1271,     0.12132,     0.11554,     0.10977,     0.10399,    0.098212,    0.092435,    0.086658,     0.08088,    0.075103,    0.069326,    0.063549,\n",
       "           0.057772,    0.051995,    0.046217,     0.04044,    0.034663,    0.028886,    0.023109,    0.017332,    0.011554,   0.0057772,           0]]), 'Recall', 'Precision'], [array([          0,    0.001001,    0.002002,    0.003003,    0.004004,    0.005005,    0.006006,    0.007007,    0.008008,    0.009009,     0.01001,    0.011011,    0.012012,    0.013013,    0.014014,    0.015015,    0.016016,    0.017017,    0.018018,    0.019019,     0.02002,    0.021021,    0.022022,    0.023023,\n",
       "          0.024024,    0.025025,    0.026026,    0.027027,    0.028028,    0.029029,     0.03003,    0.031031,    0.032032,    0.033033,    0.034034,    0.035035,    0.036036,    0.037037,    0.038038,    0.039039,     0.04004,    0.041041,    0.042042,    0.043043,    0.044044,    0.045045,    0.046046,    0.047047,\n",
       "          0.048048,    0.049049,     0.05005,    0.051051,    0.052052,    0.053053,    0.054054,    0.055055,    0.056056,    0.057057,    0.058058,    0.059059,     0.06006,    0.061061,    0.062062,    0.063063,    0.064064,    0.065065,    0.066066,    0.067067,    0.068068,    0.069069,     0.07007,    0.071071,\n",
       "          0.072072,    0.073073,    0.074074,    0.075075,    0.076076,    0.077077,    0.078078,    0.079079,     0.08008,    0.081081,    0.082082,    0.083083,    0.084084,    0.085085,    0.086086,    0.087087,    0.088088,    0.089089,     0.09009,    0.091091,    0.092092,    0.093093,    0.094094,    0.095095,\n",
       "          0.096096,    0.097097,    0.098098,    0.099099,      0.1001,      0.1011,      0.1021,      0.1031,      0.1041,     0.10511,     0.10611,     0.10711,     0.10811,     0.10911,     0.11011,     0.11111,     0.11211,     0.11311,     0.11411,     0.11512,     0.11612,     0.11712,     0.11812,     0.11912,\n",
       "           0.12012,     0.12112,     0.12212,     0.12312,     0.12412,     0.12513,     0.12613,     0.12713,     0.12813,     0.12913,     0.13013,     0.13113,     0.13213,     0.13313,     0.13413,     0.13514,     0.13614,     0.13714,     0.13814,     0.13914,     0.14014,     0.14114,     0.14214,     0.14314,\n",
       "           0.14414,     0.14515,     0.14615,     0.14715,     0.14815,     0.14915,     0.15015,     0.15115,     0.15215,     0.15315,     0.15415,     0.15516,     0.15616,     0.15716,     0.15816,     0.15916,     0.16016,     0.16116,     0.16216,     0.16316,     0.16416,     0.16517,     0.16617,     0.16717,\n",
       "           0.16817,     0.16917,     0.17017,     0.17117,     0.17217,     0.17317,     0.17417,     0.17518,     0.17618,     0.17718,     0.17818,     0.17918,     0.18018,     0.18118,     0.18218,     0.18318,     0.18418,     0.18519,     0.18619,     0.18719,     0.18819,     0.18919,     0.19019,     0.19119,\n",
       "           0.19219,     0.19319,     0.19419,      0.1952,      0.1962,      0.1972,      0.1982,      0.1992,      0.2002,      0.2012,      0.2022,      0.2032,      0.2042,     0.20521,     0.20621,     0.20721,     0.20821,     0.20921,     0.21021,     0.21121,     0.21221,     0.21321,     0.21421,     0.21522,\n",
       "           0.21622,     0.21722,     0.21822,     0.21922,     0.22022,     0.22122,     0.22222,     0.22322,     0.22422,     0.22523,     0.22623,     0.22723,     0.22823,     0.22923,     0.23023,     0.23123,     0.23223,     0.23323,     0.23423,     0.23524,     0.23624,     0.23724,     0.23824,     0.23924,\n",
       "           0.24024,     0.24124,     0.24224,     0.24324,     0.24424,     0.24525,     0.24625,     0.24725,     0.24825,     0.24925,     0.25025,     0.25125,     0.25225,     0.25325,     0.25425,     0.25526,     0.25626,     0.25726,     0.25826,     0.25926,     0.26026,     0.26126,     0.26226,     0.26326,\n",
       "           0.26426,     0.26527,     0.26627,     0.26727,     0.26827,     0.26927,     0.27027,     0.27127,     0.27227,     0.27327,     0.27427,     0.27528,     0.27628,     0.27728,     0.27828,     0.27928,     0.28028,     0.28128,     0.28228,     0.28328,     0.28428,     0.28529,     0.28629,     0.28729,\n",
       "           0.28829,     0.28929,     0.29029,     0.29129,     0.29229,     0.29329,     0.29429,      0.2953,      0.2963,      0.2973,      0.2983,      0.2993,      0.3003,      0.3013,      0.3023,      0.3033,      0.3043,     0.30531,     0.30631,     0.30731,     0.30831,     0.30931,     0.31031,     0.31131,\n",
       "           0.31231,     0.31331,     0.31431,     0.31532,     0.31632,     0.31732,     0.31832,     0.31932,     0.32032,     0.32132,     0.32232,     0.32332,     0.32432,     0.32533,     0.32633,     0.32733,     0.32833,     0.32933,     0.33033,     0.33133,     0.33233,     0.33333,     0.33433,     0.33534,\n",
       "           0.33634,     0.33734,     0.33834,     0.33934,     0.34034,     0.34134,     0.34234,     0.34334,     0.34434,     0.34535,     0.34635,     0.34735,     0.34835,     0.34935,     0.35035,     0.35135,     0.35235,     0.35335,     0.35435,     0.35536,     0.35636,     0.35736,     0.35836,     0.35936,\n",
       "           0.36036,     0.36136,     0.36236,     0.36336,     0.36436,     0.36537,     0.36637,     0.36737,     0.36837,     0.36937,     0.37037,     0.37137,     0.37237,     0.37337,     0.37437,     0.37538,     0.37638,     0.37738,     0.37838,     0.37938,     0.38038,     0.38138,     0.38238,     0.38338,\n",
       "           0.38438,     0.38539,     0.38639,     0.38739,     0.38839,     0.38939,     0.39039,     0.39139,     0.39239,     0.39339,     0.39439,      0.3954,      0.3964,      0.3974,      0.3984,      0.3994,      0.4004,      0.4014,      0.4024,      0.4034,      0.4044,     0.40541,     0.40641,     0.40741,\n",
       "           0.40841,     0.40941,     0.41041,     0.41141,     0.41241,     0.41341,     0.41441,     0.41542,     0.41642,     0.41742,     0.41842,     0.41942,     0.42042,     0.42142,     0.42242,     0.42342,     0.42442,     0.42543,     0.42643,     0.42743,     0.42843,     0.42943,     0.43043,     0.43143,\n",
       "           0.43243,     0.43343,     0.43443,     0.43544,     0.43644,     0.43744,     0.43844,     0.43944,     0.44044,     0.44144,     0.44244,     0.44344,     0.44444,     0.44545,     0.44645,     0.44745,     0.44845,     0.44945,     0.45045,     0.45145,     0.45245,     0.45345,     0.45445,     0.45546,\n",
       "           0.45646,     0.45746,     0.45846,     0.45946,     0.46046,     0.46146,     0.46246,     0.46346,     0.46446,     0.46547,     0.46647,     0.46747,     0.46847,     0.46947,     0.47047,     0.47147,     0.47247,     0.47347,     0.47447,     0.47548,     0.47648,     0.47748,     0.47848,     0.47948,\n",
       "           0.48048,     0.48148,     0.48248,     0.48348,     0.48448,     0.48549,     0.48649,     0.48749,     0.48849,     0.48949,     0.49049,     0.49149,     0.49249,     0.49349,     0.49449,      0.4955,      0.4965,      0.4975,      0.4985,      0.4995,      0.5005,      0.5015,      0.5025,      0.5035,\n",
       "            0.5045,     0.50551,     0.50651,     0.50751,     0.50851,     0.50951,     0.51051,     0.51151,     0.51251,     0.51351,     0.51451,     0.51552,     0.51652,     0.51752,     0.51852,     0.51952,     0.52052,     0.52152,     0.52252,     0.52352,     0.52452,     0.52553,     0.52653,     0.52753,\n",
       "           0.52853,     0.52953,     0.53053,     0.53153,     0.53253,     0.53353,     0.53453,     0.53554,     0.53654,     0.53754,     0.53854,     0.53954,     0.54054,     0.54154,     0.54254,     0.54354,     0.54454,     0.54555,     0.54655,     0.54755,     0.54855,     0.54955,     0.55055,     0.55155,\n",
       "           0.55255,     0.55355,     0.55455,     0.55556,     0.55656,     0.55756,     0.55856,     0.55956,     0.56056,     0.56156,     0.56256,     0.56356,     0.56456,     0.56557,     0.56657,     0.56757,     0.56857,     0.56957,     0.57057,     0.57157,     0.57257,     0.57357,     0.57457,     0.57558,\n",
       "           0.57658,     0.57758,     0.57858,     0.57958,     0.58058,     0.58158,     0.58258,     0.58358,     0.58458,     0.58559,     0.58659,     0.58759,     0.58859,     0.58959,     0.59059,     0.59159,     0.59259,     0.59359,     0.59459,      0.5956,      0.5966,      0.5976,      0.5986,      0.5996,\n",
       "            0.6006,      0.6016,      0.6026,      0.6036,      0.6046,     0.60561,     0.60661,     0.60761,     0.60861,     0.60961,     0.61061,     0.61161,     0.61261,     0.61361,     0.61461,     0.61562,     0.61662,     0.61762,     0.61862,     0.61962,     0.62062,     0.62162,     0.62262,     0.62362,\n",
       "           0.62462,     0.62563,     0.62663,     0.62763,     0.62863,     0.62963,     0.63063,     0.63163,     0.63263,     0.63363,     0.63463,     0.63564,     0.63664,     0.63764,     0.63864,     0.63964,     0.64064,     0.64164,     0.64264,     0.64364,     0.64464,     0.64565,     0.64665,     0.64765,\n",
       "           0.64865,     0.64965,     0.65065,     0.65165,     0.65265,     0.65365,     0.65465,     0.65566,     0.65666,     0.65766,     0.65866,     0.65966,     0.66066,     0.66166,     0.66266,     0.66366,     0.66466,     0.66567,     0.66667,     0.66767,     0.66867,     0.66967,     0.67067,     0.67167,\n",
       "           0.67267,     0.67367,     0.67467,     0.67568,     0.67668,     0.67768,     0.67868,     0.67968,     0.68068,     0.68168,     0.68268,     0.68368,     0.68468,     0.68569,     0.68669,     0.68769,     0.68869,     0.68969,     0.69069,     0.69169,     0.69269,     0.69369,     0.69469,      0.6957,\n",
       "            0.6967,      0.6977,      0.6987,      0.6997,      0.7007,      0.7017,      0.7027,      0.7037,      0.7047,     0.70571,     0.70671,     0.70771,     0.70871,     0.70971,     0.71071,     0.71171,     0.71271,     0.71371,     0.71471,     0.71572,     0.71672,     0.71772,     0.71872,     0.71972,\n",
       "           0.72072,     0.72172,     0.72272,     0.72372,     0.72472,     0.72573,     0.72673,     0.72773,     0.72873,     0.72973,     0.73073,     0.73173,     0.73273,     0.73373,     0.73473,     0.73574,     0.73674,     0.73774,     0.73874,     0.73974,     0.74074,     0.74174,     0.74274,     0.74374,\n",
       "           0.74474,     0.74575,     0.74675,     0.74775,     0.74875,     0.74975,     0.75075,     0.75175,     0.75275,     0.75375,     0.75475,     0.75576,     0.75676,     0.75776,     0.75876,     0.75976,     0.76076,     0.76176,     0.76276,     0.76376,     0.76476,     0.76577,     0.76677,     0.76777,\n",
       "           0.76877,     0.76977,     0.77077,     0.77177,     0.77277,     0.77377,     0.77477,     0.77578,     0.77678,     0.77778,     0.77878,     0.77978,     0.78078,     0.78178,     0.78278,     0.78378,     0.78478,     0.78579,     0.78679,     0.78779,     0.78879,     0.78979,     0.79079,     0.79179,\n",
       "           0.79279,     0.79379,     0.79479,      0.7958,      0.7968,      0.7978,      0.7988,      0.7998,      0.8008,      0.8018,      0.8028,      0.8038,      0.8048,     0.80581,     0.80681,     0.80781,     0.80881,     0.80981,     0.81081,     0.81181,     0.81281,     0.81381,     0.81481,     0.81582,\n",
       "           0.81682,     0.81782,     0.81882,     0.81982,     0.82082,     0.82182,     0.82282,     0.82382,     0.82482,     0.82583,     0.82683,     0.82783,     0.82883,     0.82983,     0.83083,     0.83183,     0.83283,     0.83383,     0.83483,     0.83584,     0.83684,     0.83784,     0.83884,     0.83984,\n",
       "           0.84084,     0.84184,     0.84284,     0.84384,     0.84484,     0.84585,     0.84685,     0.84785,     0.84885,     0.84985,     0.85085,     0.85185,     0.85285,     0.85385,     0.85485,     0.85586,     0.85686,     0.85786,     0.85886,     0.85986,     0.86086,     0.86186,     0.86286,     0.86386,\n",
       "           0.86486,     0.86587,     0.86687,     0.86787,     0.86887,     0.86987,     0.87087,     0.87187,     0.87287,     0.87387,     0.87487,     0.87588,     0.87688,     0.87788,     0.87888,     0.87988,     0.88088,     0.88188,     0.88288,     0.88388,     0.88488,     0.88589,     0.88689,     0.88789,\n",
       "           0.88889,     0.88989,     0.89089,     0.89189,     0.89289,     0.89389,     0.89489,      0.8959,      0.8969,      0.8979,      0.8989,      0.8999,      0.9009,      0.9019,      0.9029,      0.9039,      0.9049,     0.90591,     0.90691,     0.90791,     0.90891,     0.90991,     0.91091,     0.91191,\n",
       "           0.91291,     0.91391,     0.91491,     0.91592,     0.91692,     0.91792,     0.91892,     0.91992,     0.92092,     0.92192,     0.92292,     0.92392,     0.92492,     0.92593,     0.92693,     0.92793,     0.92893,     0.92993,     0.93093,     0.93193,     0.93293,     0.93393,     0.93493,     0.93594,\n",
       "           0.93694,     0.93794,     0.93894,     0.93994,     0.94094,     0.94194,     0.94294,     0.94394,     0.94494,     0.94595,     0.94695,     0.94795,     0.94895,     0.94995,     0.95095,     0.95195,     0.95295,     0.95395,     0.95495,     0.95596,     0.95696,     0.95796,     0.95896,     0.95996,\n",
       "           0.96096,     0.96196,     0.96296,     0.96396,     0.96496,     0.96597,     0.96697,     0.96797,     0.96897,     0.96997,     0.97097,     0.97197,     0.97297,     0.97397,     0.97497,     0.97598,     0.97698,     0.97798,     0.97898,     0.97998,     0.98098,     0.98198,     0.98298,     0.98398,\n",
       "           0.98498,     0.98599,     0.98699,     0.98799,     0.98899,     0.98999,     0.99099,     0.99199,     0.99299,     0.99399,     0.99499,       0.996,       0.997,       0.998,       0.999,           1]), array([[    0.32258,     0.32258,     0.42351,     0.47872,     0.52163,     0.55529,     0.58389,     0.60502,     0.62624,     0.64637,     0.66153,     0.67526,     0.68975,      0.6981,     0.70812,     0.71673,     0.72567,     0.73375,     0.74217,     0.74895,     0.75653,     0.76222,     0.76747,\n",
       "             0.7726,     0.77887,     0.78367,       0.788,     0.79288,     0.79638,     0.79891,     0.80297,     0.80568,     0.80878,     0.81233,     0.81613,       0.819,     0.82258,     0.82471,     0.82643,      0.8286,     0.83178,     0.83385,      0.8359,     0.83844,     0.84097,     0.84367,\n",
       "            0.84467,     0.84669,     0.84799,     0.84924,     0.85089,     0.85162,     0.85328,      0.8551,     0.85594,     0.85743,     0.85891,     0.86044,     0.86133,     0.86222,       0.863,     0.86438,     0.86478,     0.86529,     0.86661,     0.86726,     0.86774,     0.86858,     0.86926,\n",
       "            0.87072,     0.87161,     0.87292,     0.87356,     0.87451,     0.87492,     0.87591,     0.87614,     0.87641,     0.87741,     0.87811,     0.87862,     0.87887,     0.87971,      0.8799,      0.8805,     0.88051,     0.88082,     0.88135,     0.88187,     0.88214,     0.88251,     0.88306,\n",
       "            0.88373,     0.88416,     0.88545,     0.88558,     0.88614,     0.88693,     0.88815,     0.88866,     0.88985,     0.89115,     0.89141,     0.89189,     0.89226,     0.89295,      0.8932,     0.89343,     0.89349,     0.89361,     0.89389,     0.89418,      0.8945,     0.89474,     0.89522,\n",
       "            0.89562,     0.89578,     0.89594,     0.89641,     0.89691,     0.89753,     0.89774,     0.89812,     0.89812,     0.89828,     0.89885,      0.8991,     0.89935,     0.89959,     0.89989,     0.90014,     0.90039,     0.90045,     0.90105,     0.90136,      0.9018,      0.9019,     0.90199,\n",
       "            0.90207,     0.90198,     0.90191,     0.90205,     0.90231,     0.90231,     0.90214,     0.90254,     0.90317,     0.90308,     0.90331,     0.90373,     0.90397,     0.90401,     0.90443,     0.90478,     0.90466,     0.90475,      0.9053,     0.90587,     0.90596,     0.90628,     0.90637,\n",
       "            0.90647,     0.90677,     0.90691,     0.90654,       0.907,     0.90715,     0.90722,     0.90729,     0.90738,      0.9074,     0.90755,     0.90757,     0.90768,     0.90767,     0.90769,     0.90778,     0.90784,     0.90798,     0.90813,     0.90815,     0.90821,     0.90827,      0.9083,\n",
       "            0.90823,     0.90825,     0.90841,     0.90879,     0.90902,     0.90911,     0.90918,     0.90927,     0.90919,     0.90925,     0.90931,     0.90921,     0.90923,     0.90914,     0.90878,      0.9089,     0.90899,     0.90894,     0.90902,     0.90912,     0.90929,     0.90942,     0.90954,\n",
       "            0.90974,     0.90967,      0.9096,     0.90949,      0.9095,     0.90961,     0.90969,     0.90981,     0.90992,      0.9102,     0.91006,     0.90975,     0.90991,     0.91016,     0.91027,     0.91034,     0.91041,     0.91027,     0.91037,     0.91025,     0.91029,     0.91032,     0.91036,\n",
       "            0.91031,     0.91022,     0.91052,     0.91057,     0.91062,     0.91048,     0.91052,     0.91023,     0.91043,     0.91063,     0.91047,     0.91034,     0.91054,     0.91077,     0.91084,     0.91092,     0.91095,     0.91079,     0.91046,      0.9103,     0.91022,     0.91022,     0.91018,\n",
       "            0.91001,     0.90991,     0.90983,     0.90978,     0.90988,     0.90974,     0.90975,     0.90982,     0.90977,     0.90971,     0.90988,     0.91023,     0.91034,     0.91063,     0.91076,     0.91052,     0.91066,     0.91076,     0.91076,     0.91073,      0.9107,     0.91066,     0.91063,\n",
       "            0.91062,     0.91066,     0.91069,     0.91072,     0.91075,     0.91062,     0.91049,     0.91062,     0.91059,     0.91065,       0.911,     0.91117,      0.9112,     0.91108,     0.91113,     0.91117,     0.91122,     0.91135,      0.9112,     0.91123,     0.91126,     0.91128,     0.91131,\n",
       "            0.91133,     0.91142,     0.91139,     0.91127,     0.91106,     0.91115,     0.91122,     0.91127,     0.91131,     0.91132,     0.91122,     0.91134,     0.91139,     0.91143,     0.91145,     0.91135,      0.9114,      0.9113,     0.91111,     0.91107,     0.91092,     0.91108,     0.91127,\n",
       "            0.91117,     0.91127,     0.91122,     0.91103,     0.91105,     0.91108,     0.91112,     0.91115,     0.91101,     0.91139,     0.91129,     0.91159,     0.91168,     0.91182,     0.91193,     0.91186,     0.91179,     0.91173,     0.91166,     0.91133,     0.91131,     0.91135,     0.91139,\n",
       "            0.91145,     0.91178,     0.91189,     0.91195,       0.912,     0.91217,      0.9121,     0.91203,     0.91204,     0.91255,     0.91244,      0.9125,     0.91281,     0.91306,     0.91315,     0.91327,     0.91307,     0.91301,     0.91294,     0.91281,      0.9128,     0.91279,     0.91269,\n",
       "            0.91282,     0.91288,     0.91294,     0.91297,     0.91294,     0.91291,     0.91288,     0.91284,     0.91281,     0.91273,     0.91263,     0.91242,     0.91224,     0.91233,     0.91233,     0.91215,     0.91197,     0.91159,     0.91144,     0.91135,     0.91125,     0.91116,     0.91094,\n",
       "            0.91084,     0.91077,     0.91091,       0.911,     0.91111,     0.91124,     0.91131,     0.91125,     0.91128,     0.91117,     0.91141,      0.9113,     0.91112,     0.91122,     0.91116,     0.91107,      0.9112,     0.91114,     0.91108,     0.91083,     0.91074,     0.91065,     0.91055,\n",
       "            0.91041,     0.91023,      0.9102,     0.91011,     0.90977,     0.90969,     0.90964,     0.90959,     0.90955,     0.90964,     0.90961,     0.90943,     0.90924,     0.90906,     0.90887,     0.90886,     0.90877,      0.9088,     0.90887,     0.90902,     0.90918,     0.90918,     0.90897,\n",
       "            0.90883,     0.90857,     0.90821,     0.90827,      0.9085,     0.90855,      0.9086,     0.90845,     0.90835,     0.90826,     0.90842,     0.90847,     0.90852,      0.9086,     0.90866,     0.90831,     0.90839,     0.90825,     0.90795,     0.90802,     0.90807,     0.90823,     0.90853,\n",
       "             0.9084,     0.90836,     0.90831,     0.90826,     0.90795,     0.90792,     0.90795,     0.90788,     0.90769,     0.90757,     0.90748,     0.90773,     0.90769,     0.90759,     0.90757,     0.90754,     0.90774,     0.90782,     0.90746,     0.90737,     0.90709,     0.90688,     0.90691,\n",
       "            0.90693,     0.90696,     0.90698,     0.90701,       0.907,     0.90678,     0.90682,     0.90713,     0.90725,     0.90729,     0.90733,     0.90737,     0.90742,      0.9075,     0.90761,     0.90761,     0.90742,     0.90728,     0.90719,     0.90704,     0.90673,     0.90664,      0.9067,\n",
       "            0.90663,     0.90666,     0.90656,     0.90657,      0.9066,     0.90664,     0.90668,     0.90661,     0.90652,     0.90639,     0.90647,     0.90602,     0.90593,      0.9058,     0.90571,     0.90562,     0.90552,     0.90548,     0.90527,     0.90518,     0.90508,     0.90499,     0.90489,\n",
       "             0.9048,     0.90452,     0.90443,     0.90412,     0.90396,     0.90387,     0.90374,     0.90366,     0.90374,     0.90385,       0.904,     0.90398,     0.90377,     0.90358,     0.90339,      0.9027,     0.90261,      0.9026,     0.90223,     0.90192,     0.90183,     0.90166,     0.90129,\n",
       "            0.90132,     0.90123,     0.90116,     0.90117,     0.90087,     0.90081,     0.90055,      0.9006,     0.90065,     0.90058,     0.90025,     0.90016,         0.9,     0.89997,     0.89977,     0.89958,     0.89939,     0.89902,     0.89903,      0.8991,     0.89897,     0.89878,     0.89859,\n",
       "            0.89863,     0.89853,     0.89835,     0.89846,     0.89827,     0.89733,     0.89695,     0.89648,     0.89593,     0.89603,     0.89605,     0.89598,     0.89602,     0.89537,     0.89499,     0.89461,     0.89442,     0.89422,     0.89425,     0.89433,     0.89417,     0.89385,      0.8937,\n",
       "             0.8936,     0.89359,     0.89357,     0.89338,      0.8932,      0.8931,     0.89295,     0.89294,      0.8929,     0.89271,     0.89261,      0.8923,     0.89173,     0.89116,     0.89096,     0.89088,     0.89072,     0.89053,     0.89038,      0.8903,     0.89023,     0.89003,     0.88977,\n",
       "            0.88972,     0.88953,     0.88936,     0.88926,     0.88883,     0.88888,     0.88811,      0.8881,     0.88818,     0.88786,     0.88767,      0.8868,      0.8866,     0.88602,     0.88586,     0.88576,     0.88553,     0.88513,     0.88505,     0.88462,     0.88403,     0.88326,     0.88304,\n",
       "            0.88276,     0.88259,     0.88252,     0.88193,     0.88135,     0.88055,     0.88023,     0.87925,     0.87866,     0.87839,     0.87816,     0.87858,     0.87802,     0.87743,      0.8767,      0.8761,     0.87582,     0.87522,     0.87394,     0.87349,      0.8729,     0.87269,     0.87186,\n",
       "             0.8714,     0.87125,     0.87055,      0.8698,      0.8696,      0.8694,     0.86833,     0.86789,      0.8674,     0.86724,     0.86613,     0.86553,     0.86512,     0.86336,     0.86255,     0.86174,      0.8607,     0.85981,      0.8594,     0.85889,     0.85715,     0.85633,     0.85603,\n",
       "            0.85523,     0.85512,     0.85391,     0.85258,     0.85095,     0.85081,     0.84921,      0.8491,     0.84642,     0.84513,     0.84206,     0.84185,     0.84061,     0.84071,     0.83908,     0.83741,      0.8373,     0.83655,      0.8364,     0.83529,     0.83364,     0.83342,     0.83181,\n",
       "            0.83192,     0.83074,     0.82759,     0.82745,     0.82591,      0.8258,     0.82371,     0.82176,     0.81828,     0.81813,     0.81618,     0.81596,     0.81483,     0.81225,      0.8121,     0.80818,     0.80571,     0.80562,     0.80431,     0.80244,     0.80254,     0.79975,     0.79964,\n",
       "            0.79722,     0.79517,     0.79501,     0.79227,     0.78866,     0.78666,      0.7865,     0.78403,       0.779,     0.77911,     0.77575,     0.77351,     0.77339,      0.7698,     0.76629,     0.76613,     0.76227,     0.75846,     0.75812,     0.75272,     0.74969,     0.74952,     0.74566,\n",
       "            0.74099,     0.73738,     0.73721,     0.73352,     0.73085,     0.72728,     0.72698,     0.72053,     0.71596,     0.71578,     0.71124,     0.70801,     0.70768,     0.70214,     0.69788,     0.69308,      0.6929,      0.6892,     0.68479,     0.68449,      0.6823,      0.6802,     0.67712,\n",
       "            0.67265,     0.67246,     0.66814,     0.66486,     0.65959,      0.6594,     0.65601,     0.65193,       0.648,      0.6478,     0.64295,     0.63852,     0.63516,     0.63495,     0.63024,     0.62676,     0.62249,     0.61752,     0.61326,     0.60991,      0.6097,     0.60619,     0.60175,\n",
       "             0.5969,     0.59145,     0.59076,     0.58748,     0.58334,     0.58023,     0.57551,     0.57508,     0.57088,     0.56581,     0.56306,     0.55978,     0.55465,     0.55415,     0.55116,     0.54549,     0.54513,     0.54189,     0.53498,     0.53021,     0.52661,     0.52172,     0.51658,\n",
       "            0.51579,     0.50878,     0.50559,     0.50239,     0.49779,     0.49488,     0.48947,     0.48548,     0.48037,     0.47649,     0.47483,     0.47224,      0.4663,     0.46154,     0.45702,     0.45474,     0.45022,      0.4445,     0.44404,     0.44057,     0.43592,     0.43008,     0.42459,\n",
       "            0.42064,     0.41547,     0.40988,     0.40545,     0.40301,     0.39976,     0.39487,      0.3883,     0.38251,     0.37218,     0.36543,     0.36032,     0.35518,     0.35096,      0.3436,      0.3401,     0.33483,     0.32421,      0.3184,     0.31299,     0.30391,      0.2952,     0.28733,\n",
       "            0.28172,     0.27889,     0.26897,      0.2618,     0.25699,     0.24681,      0.2375,      0.2266,     0.22159,     0.21856,     0.21097,      0.2079,     0.20073,     0.19351,     0.18467,     0.18098,      0.1736,     0.16828,      0.1656,     0.16184,     0.15753,     0.15319,     0.14558,\n",
       "            0.13791,     0.13348,     0.12737,     0.11955,     0.11165,     0.10313,     0.10025,     0.09277,    0.090437,    0.087909,    0.084593,    0.081658,     0.07579,    0.069458,    0.066906,    0.061139,    0.059131,    0.054323,    0.050693,    0.047668,    0.044012,    0.038518,    0.032381,\n",
       "           0.027144,    0.025558,    0.023102,    0.022407,    0.018034,    0.016675,    0.015483,    0.014234,    0.013914,    0.012736,     0.01147,    0.010828,    0.010186,    0.008676,   0.0082471,   0.0051785,   0.0042427,   0.0038119,   0.0029139,   0.0026551,   0.0018821,   0.0012036,           0,\n",
       "                  0,           0,           0,           0,           0,           0,           0,           0,           0,           0,           0,           0,           0,           0,           0,           0,           0,           0,           0,           0,           0,           0,           0,\n",
       "                  0,           0,           0,           0,           0,           0,           0,           0,           0,           0,           0,           0,           0,           0,           0,           0,           0,           0,           0,           0,           0,           0,           0,\n",
       "                  0,           0,           0,           0,           0,           0,           0,           0,           0,           0,           0]]), 'Confidence', 'F1'], [array([          0,    0.001001,    0.002002,    0.003003,    0.004004,    0.005005,    0.006006,    0.007007,    0.008008,    0.009009,     0.01001,    0.011011,    0.012012,    0.013013,    0.014014,    0.015015,    0.016016,    0.017017,    0.018018,    0.019019,     0.02002,    0.021021,    0.022022,    0.023023,\n",
       "          0.024024,    0.025025,    0.026026,    0.027027,    0.028028,    0.029029,     0.03003,    0.031031,    0.032032,    0.033033,    0.034034,    0.035035,    0.036036,    0.037037,    0.038038,    0.039039,     0.04004,    0.041041,    0.042042,    0.043043,    0.044044,    0.045045,    0.046046,    0.047047,\n",
       "          0.048048,    0.049049,     0.05005,    0.051051,    0.052052,    0.053053,    0.054054,    0.055055,    0.056056,    0.057057,    0.058058,    0.059059,     0.06006,    0.061061,    0.062062,    0.063063,    0.064064,    0.065065,    0.066066,    0.067067,    0.068068,    0.069069,     0.07007,    0.071071,\n",
       "          0.072072,    0.073073,    0.074074,    0.075075,    0.076076,    0.077077,    0.078078,    0.079079,     0.08008,    0.081081,    0.082082,    0.083083,    0.084084,    0.085085,    0.086086,    0.087087,    0.088088,    0.089089,     0.09009,    0.091091,    0.092092,    0.093093,    0.094094,    0.095095,\n",
       "          0.096096,    0.097097,    0.098098,    0.099099,      0.1001,      0.1011,      0.1021,      0.1031,      0.1041,     0.10511,     0.10611,     0.10711,     0.10811,     0.10911,     0.11011,     0.11111,     0.11211,     0.11311,     0.11411,     0.11512,     0.11612,     0.11712,     0.11812,     0.11912,\n",
       "           0.12012,     0.12112,     0.12212,     0.12312,     0.12412,     0.12513,     0.12613,     0.12713,     0.12813,     0.12913,     0.13013,     0.13113,     0.13213,     0.13313,     0.13413,     0.13514,     0.13614,     0.13714,     0.13814,     0.13914,     0.14014,     0.14114,     0.14214,     0.14314,\n",
       "           0.14414,     0.14515,     0.14615,     0.14715,     0.14815,     0.14915,     0.15015,     0.15115,     0.15215,     0.15315,     0.15415,     0.15516,     0.15616,     0.15716,     0.15816,     0.15916,     0.16016,     0.16116,     0.16216,     0.16316,     0.16416,     0.16517,     0.16617,     0.16717,\n",
       "           0.16817,     0.16917,     0.17017,     0.17117,     0.17217,     0.17317,     0.17417,     0.17518,     0.17618,     0.17718,     0.17818,     0.17918,     0.18018,     0.18118,     0.18218,     0.18318,     0.18418,     0.18519,     0.18619,     0.18719,     0.18819,     0.18919,     0.19019,     0.19119,\n",
       "           0.19219,     0.19319,     0.19419,      0.1952,      0.1962,      0.1972,      0.1982,      0.1992,      0.2002,      0.2012,      0.2022,      0.2032,      0.2042,     0.20521,     0.20621,     0.20721,     0.20821,     0.20921,     0.21021,     0.21121,     0.21221,     0.21321,     0.21421,     0.21522,\n",
       "           0.21622,     0.21722,     0.21822,     0.21922,     0.22022,     0.22122,     0.22222,     0.22322,     0.22422,     0.22523,     0.22623,     0.22723,     0.22823,     0.22923,     0.23023,     0.23123,     0.23223,     0.23323,     0.23423,     0.23524,     0.23624,     0.23724,     0.23824,     0.23924,\n",
       "           0.24024,     0.24124,     0.24224,     0.24324,     0.24424,     0.24525,     0.24625,     0.24725,     0.24825,     0.24925,     0.25025,     0.25125,     0.25225,     0.25325,     0.25425,     0.25526,     0.25626,     0.25726,     0.25826,     0.25926,     0.26026,     0.26126,     0.26226,     0.26326,\n",
       "           0.26426,     0.26527,     0.26627,     0.26727,     0.26827,     0.26927,     0.27027,     0.27127,     0.27227,     0.27327,     0.27427,     0.27528,     0.27628,     0.27728,     0.27828,     0.27928,     0.28028,     0.28128,     0.28228,     0.28328,     0.28428,     0.28529,     0.28629,     0.28729,\n",
       "           0.28829,     0.28929,     0.29029,     0.29129,     0.29229,     0.29329,     0.29429,      0.2953,      0.2963,      0.2973,      0.2983,      0.2993,      0.3003,      0.3013,      0.3023,      0.3033,      0.3043,     0.30531,     0.30631,     0.30731,     0.30831,     0.30931,     0.31031,     0.31131,\n",
       "           0.31231,     0.31331,     0.31431,     0.31532,     0.31632,     0.31732,     0.31832,     0.31932,     0.32032,     0.32132,     0.32232,     0.32332,     0.32432,     0.32533,     0.32633,     0.32733,     0.32833,     0.32933,     0.33033,     0.33133,     0.33233,     0.33333,     0.33433,     0.33534,\n",
       "           0.33634,     0.33734,     0.33834,     0.33934,     0.34034,     0.34134,     0.34234,     0.34334,     0.34434,     0.34535,     0.34635,     0.34735,     0.34835,     0.34935,     0.35035,     0.35135,     0.35235,     0.35335,     0.35435,     0.35536,     0.35636,     0.35736,     0.35836,     0.35936,\n",
       "           0.36036,     0.36136,     0.36236,     0.36336,     0.36436,     0.36537,     0.36637,     0.36737,     0.36837,     0.36937,     0.37037,     0.37137,     0.37237,     0.37337,     0.37437,     0.37538,     0.37638,     0.37738,     0.37838,     0.37938,     0.38038,     0.38138,     0.38238,     0.38338,\n",
       "           0.38438,     0.38539,     0.38639,     0.38739,     0.38839,     0.38939,     0.39039,     0.39139,     0.39239,     0.39339,     0.39439,      0.3954,      0.3964,      0.3974,      0.3984,      0.3994,      0.4004,      0.4014,      0.4024,      0.4034,      0.4044,     0.40541,     0.40641,     0.40741,\n",
       "           0.40841,     0.40941,     0.41041,     0.41141,     0.41241,     0.41341,     0.41441,     0.41542,     0.41642,     0.41742,     0.41842,     0.41942,     0.42042,     0.42142,     0.42242,     0.42342,     0.42442,     0.42543,     0.42643,     0.42743,     0.42843,     0.42943,     0.43043,     0.43143,\n",
       "           0.43243,     0.43343,     0.43443,     0.43544,     0.43644,     0.43744,     0.43844,     0.43944,     0.44044,     0.44144,     0.44244,     0.44344,     0.44444,     0.44545,     0.44645,     0.44745,     0.44845,     0.44945,     0.45045,     0.45145,     0.45245,     0.45345,     0.45445,     0.45546,\n",
       "           0.45646,     0.45746,     0.45846,     0.45946,     0.46046,     0.46146,     0.46246,     0.46346,     0.46446,     0.46547,     0.46647,     0.46747,     0.46847,     0.46947,     0.47047,     0.47147,     0.47247,     0.47347,     0.47447,     0.47548,     0.47648,     0.47748,     0.47848,     0.47948,\n",
       "           0.48048,     0.48148,     0.48248,     0.48348,     0.48448,     0.48549,     0.48649,     0.48749,     0.48849,     0.48949,     0.49049,     0.49149,     0.49249,     0.49349,     0.49449,      0.4955,      0.4965,      0.4975,      0.4985,      0.4995,      0.5005,      0.5015,      0.5025,      0.5035,\n",
       "            0.5045,     0.50551,     0.50651,     0.50751,     0.50851,     0.50951,     0.51051,     0.51151,     0.51251,     0.51351,     0.51451,     0.51552,     0.51652,     0.51752,     0.51852,     0.51952,     0.52052,     0.52152,     0.52252,     0.52352,     0.52452,     0.52553,     0.52653,     0.52753,\n",
       "           0.52853,     0.52953,     0.53053,     0.53153,     0.53253,     0.53353,     0.53453,     0.53554,     0.53654,     0.53754,     0.53854,     0.53954,     0.54054,     0.54154,     0.54254,     0.54354,     0.54454,     0.54555,     0.54655,     0.54755,     0.54855,     0.54955,     0.55055,     0.55155,\n",
       "           0.55255,     0.55355,     0.55455,     0.55556,     0.55656,     0.55756,     0.55856,     0.55956,     0.56056,     0.56156,     0.56256,     0.56356,     0.56456,     0.56557,     0.56657,     0.56757,     0.56857,     0.56957,     0.57057,     0.57157,     0.57257,     0.57357,     0.57457,     0.57558,\n",
       "           0.57658,     0.57758,     0.57858,     0.57958,     0.58058,     0.58158,     0.58258,     0.58358,     0.58458,     0.58559,     0.58659,     0.58759,     0.58859,     0.58959,     0.59059,     0.59159,     0.59259,     0.59359,     0.59459,      0.5956,      0.5966,      0.5976,      0.5986,      0.5996,\n",
       "            0.6006,      0.6016,      0.6026,      0.6036,      0.6046,     0.60561,     0.60661,     0.60761,     0.60861,     0.60961,     0.61061,     0.61161,     0.61261,     0.61361,     0.61461,     0.61562,     0.61662,     0.61762,     0.61862,     0.61962,     0.62062,     0.62162,     0.62262,     0.62362,\n",
       "           0.62462,     0.62563,     0.62663,     0.62763,     0.62863,     0.62963,     0.63063,     0.63163,     0.63263,     0.63363,     0.63463,     0.63564,     0.63664,     0.63764,     0.63864,     0.63964,     0.64064,     0.64164,     0.64264,     0.64364,     0.64464,     0.64565,     0.64665,     0.64765,\n",
       "           0.64865,     0.64965,     0.65065,     0.65165,     0.65265,     0.65365,     0.65465,     0.65566,     0.65666,     0.65766,     0.65866,     0.65966,     0.66066,     0.66166,     0.66266,     0.66366,     0.66466,     0.66567,     0.66667,     0.66767,     0.66867,     0.66967,     0.67067,     0.67167,\n",
       "           0.67267,     0.67367,     0.67467,     0.67568,     0.67668,     0.67768,     0.67868,     0.67968,     0.68068,     0.68168,     0.68268,     0.68368,     0.68468,     0.68569,     0.68669,     0.68769,     0.68869,     0.68969,     0.69069,     0.69169,     0.69269,     0.69369,     0.69469,      0.6957,\n",
       "            0.6967,      0.6977,      0.6987,      0.6997,      0.7007,      0.7017,      0.7027,      0.7037,      0.7047,     0.70571,     0.70671,     0.70771,     0.70871,     0.70971,     0.71071,     0.71171,     0.71271,     0.71371,     0.71471,     0.71572,     0.71672,     0.71772,     0.71872,     0.71972,\n",
       "           0.72072,     0.72172,     0.72272,     0.72372,     0.72472,     0.72573,     0.72673,     0.72773,     0.72873,     0.72973,     0.73073,     0.73173,     0.73273,     0.73373,     0.73473,     0.73574,     0.73674,     0.73774,     0.73874,     0.73974,     0.74074,     0.74174,     0.74274,     0.74374,\n",
       "           0.74474,     0.74575,     0.74675,     0.74775,     0.74875,     0.74975,     0.75075,     0.75175,     0.75275,     0.75375,     0.75475,     0.75576,     0.75676,     0.75776,     0.75876,     0.75976,     0.76076,     0.76176,     0.76276,     0.76376,     0.76476,     0.76577,     0.76677,     0.76777,\n",
       "           0.76877,     0.76977,     0.77077,     0.77177,     0.77277,     0.77377,     0.77477,     0.77578,     0.77678,     0.77778,     0.77878,     0.77978,     0.78078,     0.78178,     0.78278,     0.78378,     0.78478,     0.78579,     0.78679,     0.78779,     0.78879,     0.78979,     0.79079,     0.79179,\n",
       "           0.79279,     0.79379,     0.79479,      0.7958,      0.7968,      0.7978,      0.7988,      0.7998,      0.8008,      0.8018,      0.8028,      0.8038,      0.8048,     0.80581,     0.80681,     0.80781,     0.80881,     0.80981,     0.81081,     0.81181,     0.81281,     0.81381,     0.81481,     0.81582,\n",
       "           0.81682,     0.81782,     0.81882,     0.81982,     0.82082,     0.82182,     0.82282,     0.82382,     0.82482,     0.82583,     0.82683,     0.82783,     0.82883,     0.82983,     0.83083,     0.83183,     0.83283,     0.83383,     0.83483,     0.83584,     0.83684,     0.83784,     0.83884,     0.83984,\n",
       "           0.84084,     0.84184,     0.84284,     0.84384,     0.84484,     0.84585,     0.84685,     0.84785,     0.84885,     0.84985,     0.85085,     0.85185,     0.85285,     0.85385,     0.85485,     0.85586,     0.85686,     0.85786,     0.85886,     0.85986,     0.86086,     0.86186,     0.86286,     0.86386,\n",
       "           0.86486,     0.86587,     0.86687,     0.86787,     0.86887,     0.86987,     0.87087,     0.87187,     0.87287,     0.87387,     0.87487,     0.87588,     0.87688,     0.87788,     0.87888,     0.87988,     0.88088,     0.88188,     0.88288,     0.88388,     0.88488,     0.88589,     0.88689,     0.88789,\n",
       "           0.88889,     0.88989,     0.89089,     0.89189,     0.89289,     0.89389,     0.89489,      0.8959,      0.8969,      0.8979,      0.8989,      0.8999,      0.9009,      0.9019,      0.9029,      0.9039,      0.9049,     0.90591,     0.90691,     0.90791,     0.90891,     0.90991,     0.91091,     0.91191,\n",
       "           0.91291,     0.91391,     0.91491,     0.91592,     0.91692,     0.91792,     0.91892,     0.91992,     0.92092,     0.92192,     0.92292,     0.92392,     0.92492,     0.92593,     0.92693,     0.92793,     0.92893,     0.92993,     0.93093,     0.93193,     0.93293,     0.93393,     0.93493,     0.93594,\n",
       "           0.93694,     0.93794,     0.93894,     0.93994,     0.94094,     0.94194,     0.94294,     0.94394,     0.94494,     0.94595,     0.94695,     0.94795,     0.94895,     0.94995,     0.95095,     0.95195,     0.95295,     0.95395,     0.95495,     0.95596,     0.95696,     0.95796,     0.95896,     0.95996,\n",
       "           0.96096,     0.96196,     0.96296,     0.96396,     0.96496,     0.96597,     0.96697,     0.96797,     0.96897,     0.96997,     0.97097,     0.97197,     0.97297,     0.97397,     0.97497,     0.97598,     0.97698,     0.97798,     0.97898,     0.97998,     0.98098,     0.98198,     0.98298,     0.98398,\n",
       "           0.98498,     0.98599,     0.98699,     0.98799,     0.98899,     0.98999,     0.99099,     0.99199,     0.99299,     0.99399,     0.99499,       0.996,       0.997,       0.998,       0.999,           1]), array([[     0.1936,      0.1936,     0.27149,     0.31892,     0.35844,     0.39128,     0.42029,     0.44282,     0.46608,     0.48921,     0.50709,     0.52398,     0.54173,     0.55232,     0.56508,     0.57661,     0.58876,     0.59947,     0.61078,      0.6207,     0.63119,     0.63958,     0.64727,\n",
       "            0.65542,     0.66465,     0.67182,     0.67822,     0.68564,     0.69124,     0.69541,     0.70176,     0.70644,     0.71178,     0.71748,     0.72342,     0.72795,     0.73382,     0.73761,     0.74056,     0.74447,     0.74981,     0.75339,     0.75675,     0.76093,     0.76531,     0.76979,\n",
       "             0.7719,     0.77528,     0.77767,     0.77979,     0.78258,     0.78404,     0.78685,     0.79017,     0.79184,     0.79439,     0.79764,     0.80075,     0.80276,     0.80431,     0.80568,     0.80808,     0.80951,     0.81063,     0.81296,     0.81434,     0.81592,     0.81741,     0.81886,\n",
       "            0.82172,      0.8233,     0.82564,     0.82678,     0.82848,     0.82923,     0.83125,     0.83244,     0.83344,     0.83525,     0.83665,     0.83771,     0.83829,     0.83995,     0.84062,     0.84218,     0.84286,     0.84384,     0.84506,     0.84629,     0.84705,     0.84802,     0.84903,\n",
       "            0.85027,     0.85106,     0.85349,     0.85398,     0.85502,     0.85649,     0.85876,     0.85998,     0.86223,     0.86495,     0.86572,     0.86662,     0.86733,      0.8691,     0.86995,      0.8704,     0.87051,     0.87072,     0.87127,     0.87191,      0.8727,     0.87316,     0.87408,\n",
       "            0.87485,     0.87515,     0.87575,     0.87663,      0.8776,     0.87879,      0.8792,     0.87992,     0.88021,     0.88052,     0.88162,     0.88209,     0.88288,     0.88334,     0.88392,     0.88469,     0.88518,     0.88559,     0.88675,     0.88735,     0.88821,     0.88869,     0.88887,\n",
       "            0.88902,     0.88928,     0.88976,     0.89017,     0.89068,     0.89083,     0.89079,     0.89174,     0.89298,      0.8931,     0.89354,     0.89436,     0.89488,     0.89521,     0.89604,     0.89704,     0.89702,      0.8976,     0.89868,     0.89979,     0.89997,     0.90061,     0.90109,\n",
       "            0.90159,      0.9022,     0.90246,     0.90247,     0.90389,     0.90419,     0.90433,     0.90448,     0.90464,     0.90501,      0.9053,      0.9055,     0.90588,     0.90604,     0.90621,     0.90639,     0.90651,     0.90678,     0.90708,     0.90744,     0.90756,     0.90769,     0.90806,\n",
       "            0.90823,     0.90858,      0.9089,     0.90966,     0.91014,     0.91032,     0.91044,     0.91063,      0.9108,     0.91092,     0.91104,     0.91114,     0.91131,     0.91129,     0.91125,     0.91149,      0.9118,     0.91188,     0.91204,     0.91225,     0.91259,     0.91286,     0.91309,\n",
       "            0.91353,     0.91352,      0.9135,     0.91349,     0.91366,      0.9142,     0.91469,     0.91493,     0.91515,     0.91576,     0.91573,     0.91569,      0.9161,     0.91661,     0.91683,     0.91698,     0.91712,     0.91717,     0.91737,     0.91745,     0.91752,     0.91759,     0.91767,\n",
       "            0.91768,     0.91766,     0.91832,     0.91842,     0.91853,     0.91857,     0.91908,     0.91905,     0.91946,     0.91987,     0.91989,     0.91987,     0.92033,     0.92081,     0.92094,     0.92111,     0.92135,     0.92132,     0.92127,     0.92125,     0.92124,     0.92134,     0.92151,\n",
       "            0.92176,     0.92175,     0.92174,     0.92176,     0.92196,       0.922,     0.92237,     0.92257,     0.92256,     0.92256,     0.92298,      0.9237,     0.92393,     0.92452,     0.92479,     0.92497,     0.92526,     0.92547,     0.92551,     0.92551,      0.9255,      0.9255,     0.92549,\n",
       "            0.92552,     0.92558,     0.92565,     0.92571,     0.92578,     0.92577,     0.92591,     0.92618,     0.92634,     0.92658,      0.9273,     0.92767,     0.92784,     0.92782,     0.92792,     0.92801,     0.92811,     0.92838,     0.92841,     0.92847,     0.92852,     0.92858,     0.92863,\n",
       "            0.92868,     0.92887,     0.92949,     0.92985,     0.92983,     0.93001,     0.93016,     0.93026,     0.93035,     0.93043,      0.9305,     0.93076,     0.93085,     0.93094,     0.93102,     0.93111,      0.9313,     0.93129,     0.93126,     0.93155,      0.9316,     0.93194,     0.93244,\n",
       "            0.93243,     0.93269,     0.93331,     0.93329,     0.93361,     0.93368,     0.93375,     0.93382,     0.93387,     0.93508,     0.93507,     0.93579,     0.93597,     0.93628,     0.93662,     0.93661,      0.9366,     0.93659,     0.93659,     0.93655,     0.93661,     0.93669,     0.93678,\n",
       "            0.93691,     0.93761,     0.93784,     0.93796,     0.93808,     0.93842,     0.93841,      0.9384,      0.9385,     0.93965,     0.93964,     0.93985,     0.94048,     0.94103,     0.94121,     0.94183,     0.94181,      0.9418,     0.94179,     0.94178,     0.94227,     0.94238,     0.94237,\n",
       "            0.94267,      0.9428,     0.94292,       0.943,       0.943,     0.94299,     0.94299,     0.94299,     0.94298,     0.94297,     0.94296,     0.94324,     0.94323,     0.94341,     0.94354,     0.94352,      0.9435,     0.94346,     0.94344,     0.94343,     0.94364,     0.94371,     0.94369,\n",
       "            0.94368,     0.94369,     0.94401,      0.9442,     0.94444,      0.9447,     0.94486,     0.94508,     0.94525,     0.94524,     0.94581,     0.94587,     0.94585,     0.94612,     0.94616,     0.94615,     0.94647,     0.94646,     0.94646,     0.94643,     0.94642,     0.94641,      0.9464,\n",
       "            0.94639,     0.94657,     0.94698,     0.94698,     0.94694,     0.94693,     0.94693,     0.94692,     0.94692,     0.94755,     0.94785,     0.94784,     0.94782,      0.9478,     0.94778,     0.94809,     0.94808,      0.9484,     0.94881,     0.94915,     0.94948,     0.94968,     0.94966,\n",
       "            0.94986,     0.94994,      0.9499,     0.95015,     0.95064,     0.95075,     0.95086,     0.95087,     0.95086,     0.95085,     0.95159,     0.95171,     0.95182,     0.95199,     0.95215,     0.95213,      0.9523,     0.95243,     0.95246,     0.95263,      0.9535,     0.95384,     0.95452,\n",
       "            0.95467,     0.95467,     0.95466,     0.95466,     0.95463,     0.95495,     0.95516,     0.95527,     0.95525,     0.95524,     0.95523,     0.95583,     0.95589,     0.95588,      0.9562,     0.95652,     0.95701,     0.95718,     0.95716,     0.95716,     0.95714,     0.95744,      0.9575,\n",
       "            0.95756,     0.95761,     0.95767,     0.95773,     0.95777,     0.95808,     0.95849,     0.95917,     0.95945,     0.95953,     0.95962,     0.95971,     0.95983,        0.96,     0.96025,     0.96043,     0.96042,     0.96041,      0.9604,     0.96039,     0.96036,     0.96036,     0.96057,\n",
       "            0.96068,     0.96102,     0.96101,     0.96107,     0.96116,     0.96124,     0.96133,     0.96134,     0.96133,     0.96147,     0.96165,     0.96163,     0.96162,     0.96194,     0.96194,     0.96193,     0.96192,     0.96225,     0.96257,     0.96256,     0.96255,     0.96255,     0.96254,\n",
       "            0.96253,     0.96251,      0.9625,     0.96248,     0.96247,     0.96246,     0.96245,     0.96252,     0.96269,     0.96295,      0.9633,     0.96364,     0.96379,     0.96378,     0.96377,     0.96372,     0.96371,     0.96405,     0.96402,       0.964,     0.96399,     0.96398,     0.96395,\n",
       "            0.96429,     0.96429,     0.96457,     0.96496,     0.96514,     0.96542,     0.96565,     0.96577,     0.96589,     0.96594,     0.96591,     0.96591,      0.9659,     0.96624,     0.96622,     0.96621,      0.9662,     0.96617,      0.9663,     0.96648,     0.96651,      0.9665,     0.96649,\n",
       "            0.96683,     0.96683,     0.96681,     0.96751,     0.96749,     0.96743,     0.96741,     0.96738,     0.96755,     0.96804,     0.96827,     0.96839,     0.96863,      0.9687,     0.96867,     0.96865,     0.96864,     0.96863,     0.96877,     0.96896,     0.96897,      0.9693,     0.96929,\n",
       "            0.96929,     0.96981,     0.96998,     0.96997,     0.97031,     0.97031,      0.9703,     0.97087,     0.97123,     0.97169,     0.97169,     0.97167,     0.97164,     0.97161,      0.9716,     0.97171,     0.97194,     0.97193,     0.97192,     0.97191,     0.97191,      0.9719,      0.9726,\n",
       "            0.97295,     0.97294,     0.97297,     0.97329,     0.97349,     0.97434,      0.9743,     0.97443,     0.97462,     0.97465,     0.97464,      0.9746,     0.97459,     0.97456,     0.97455,     0.97455,     0.97454,     0.97452,     0.97523,     0.97558,     0.97555,     0.97552,     0.97551,\n",
       "            0.97549,     0.97572,     0.97585,     0.97582,     0.97579,     0.97584,     0.97611,     0.97606,     0.97603,     0.97602,     0.97601,      0.9771,     0.97711,     0.97709,     0.97743,      0.9774,     0.97814,     0.97811,     0.97806,     0.97841,     0.97839,     0.97838,     0.97834,\n",
       "            0.97832,     0.97859,     0.97867,     0.97902,     0.97901,       0.979,     0.97895,     0.97894,     0.97926,     0.97929,     0.97925,     0.97922,      0.9792,     0.97952,     0.97948,     0.97945,     0.97941,     0.97937,     0.97936,     0.98012,     0.98005,     0.98001,      0.9804,\n",
       "            0.98037,     0.98036,     0.98031,     0.98026,      0.9802,     0.98019,     0.98053,     0.98052,     0.98082,     0.98158,     0.98147,     0.98146,     0.98143,     0.98171,     0.98259,     0.98294,     0.98294,     0.98291,     0.98291,      0.9837,     0.98365,     0.98364,     0.98368,\n",
       "            0.98397,     0.98397,     0.98387,     0.98386,     0.98467,     0.98466,      0.9846,     0.98497,     0.98529,     0.98529,     0.98523,     0.98522,     0.98563,     0.98555,     0.98555,     0.98543,      0.9858,     0.98604,     0.98711,     0.98716,     0.98747,     0.98745,     0.98744,\n",
       "            0.98738,     0.98779,     0.98778,     0.98818,     0.98809,     0.98804,     0.98803,     0.98797,     0.98788,     0.98821,     0.98824,     0.98916,     0.98937,     0.98956,     0.98948,     0.98948,     0.98989,     0.98981,      0.9898,     0.98969,     0.98962,     0.98962,     0.98986,\n",
       "            0.98995,     0.99039,     0.99039,     0.99032,     0.99133,     0.99126,     0.99126,     0.99113,     0.99105,     0.99104,     0.99095,     0.99089,     0.99088,     0.99134,     0.99126,     0.99117,     0.99117,     0.99109,     0.99101,       0.991,     0.99096,     0.99132,     0.99146,\n",
       "            0.99198,     0.99198,      0.9919,     0.99246,     0.99237,     0.99237,     0.99231,     0.99288,     0.99281,     0.99281,     0.99273,     0.99266,     0.99393,     0.99393,     0.99387,     0.99382,     0.99375,     0.99368,     0.99432,     0.99428,     0.99427,     0.99423,     0.99417,\n",
       "             0.9941,     0.99476,     0.99476,     0.99504,     0.99618,     0.99615,     0.99611,      0.9961,     0.99606,     0.99601,     0.99598,     0.99595,      0.9959,      0.9959,     0.99586,     0.99581,      0.9958,     0.99661,     0.99655,     0.99651,     0.99648,     0.99643,     0.99638,\n",
       "            0.99638,     0.99631,     0.99628,     0.99625,      0.9962,     0.99617,     0.99611,     0.99607,     0.99602,     0.99597,     0.99596,     0.99593,     0.99586,     0.99685,     0.99681,     0.99679,     0.99675,     0.99669,     0.99669,     0.99665,     0.99661,     0.99655,     0.99649,\n",
       "            0.99645,      0.9964,     0.99633,     0.99628,     0.99626,     0.99622,     0.99616,     0.99608,     0.99601,     0.99724,     0.99718,     0.99713,     0.99708,     0.99852,     0.99848,     0.99846,     0.99843,     0.99837,     0.99833,      0.9983,     0.99824,     0.99818,     0.99812,\n",
       "            0.99807,     0.99805,     0.99797,      0.9979,     0.99786,     0.99776,     0.99766,     0.99753,     0.99747,     0.99743,     0.99732,     0.99728,     0.99717,     0.99706,      0.9969,     0.99683,     0.99668,     0.99657,     0.99651,     0.99642,     0.99631,      0.9962,     0.99599,\n",
       "            0.99575,      0.9956,     0.99537,     0.99505,     0.99468,     0.99421,     0.99404,     0.99354,     0.99336,     0.99317,     0.99289,     0.99262,     0.99203,     0.99128,     0.99094,     0.99007,     0.98972,      0.9888,     0.98798,           1,           1,           1,           1,\n",
       "                  1,           1,           1,           1,           1,           1,           1,           1,           1,           1,           1,           1,           1,           1,           1,           1,           1,           1,           1,           1,           1,           1,           1,\n",
       "                  1,           1,           1,           1,           1,           1,           1,           1,           1,           1,           1,           1,           1,           1,           1,           1,           1,           1,           1,           1,           1,           1,           1,\n",
       "                  1,           1,           1,           1,           1,           1,           1,           1,           1,           1,           1,           1,           1,           1,           1,           1,           1,           1,           1,           1,           1,           1,           1,\n",
       "                  1,           1,           1,           1,           1,           1,           1,           1,           1,           1,           1]]), 'Confidence', 'Precision'], [array([          0,    0.001001,    0.002002,    0.003003,    0.004004,    0.005005,    0.006006,    0.007007,    0.008008,    0.009009,     0.01001,    0.011011,    0.012012,    0.013013,    0.014014,    0.015015,    0.016016,    0.017017,    0.018018,    0.019019,     0.02002,    0.021021,    0.022022,    0.023023,\n",
       "          0.024024,    0.025025,    0.026026,    0.027027,    0.028028,    0.029029,     0.03003,    0.031031,    0.032032,    0.033033,    0.034034,    0.035035,    0.036036,    0.037037,    0.038038,    0.039039,     0.04004,    0.041041,    0.042042,    0.043043,    0.044044,    0.045045,    0.046046,    0.047047,\n",
       "          0.048048,    0.049049,     0.05005,    0.051051,    0.052052,    0.053053,    0.054054,    0.055055,    0.056056,    0.057057,    0.058058,    0.059059,     0.06006,    0.061061,    0.062062,    0.063063,    0.064064,    0.065065,    0.066066,    0.067067,    0.068068,    0.069069,     0.07007,    0.071071,\n",
       "          0.072072,    0.073073,    0.074074,    0.075075,    0.076076,    0.077077,    0.078078,    0.079079,     0.08008,    0.081081,    0.082082,    0.083083,    0.084084,    0.085085,    0.086086,    0.087087,    0.088088,    0.089089,     0.09009,    0.091091,    0.092092,    0.093093,    0.094094,    0.095095,\n",
       "          0.096096,    0.097097,    0.098098,    0.099099,      0.1001,      0.1011,      0.1021,      0.1031,      0.1041,     0.10511,     0.10611,     0.10711,     0.10811,     0.10911,     0.11011,     0.11111,     0.11211,     0.11311,     0.11411,     0.11512,     0.11612,     0.11712,     0.11812,     0.11912,\n",
       "           0.12012,     0.12112,     0.12212,     0.12312,     0.12412,     0.12513,     0.12613,     0.12713,     0.12813,     0.12913,     0.13013,     0.13113,     0.13213,     0.13313,     0.13413,     0.13514,     0.13614,     0.13714,     0.13814,     0.13914,     0.14014,     0.14114,     0.14214,     0.14314,\n",
       "           0.14414,     0.14515,     0.14615,     0.14715,     0.14815,     0.14915,     0.15015,     0.15115,     0.15215,     0.15315,     0.15415,     0.15516,     0.15616,     0.15716,     0.15816,     0.15916,     0.16016,     0.16116,     0.16216,     0.16316,     0.16416,     0.16517,     0.16617,     0.16717,\n",
       "           0.16817,     0.16917,     0.17017,     0.17117,     0.17217,     0.17317,     0.17417,     0.17518,     0.17618,     0.17718,     0.17818,     0.17918,     0.18018,     0.18118,     0.18218,     0.18318,     0.18418,     0.18519,     0.18619,     0.18719,     0.18819,     0.18919,     0.19019,     0.19119,\n",
       "           0.19219,     0.19319,     0.19419,      0.1952,      0.1962,      0.1972,      0.1982,      0.1992,      0.2002,      0.2012,      0.2022,      0.2032,      0.2042,     0.20521,     0.20621,     0.20721,     0.20821,     0.20921,     0.21021,     0.21121,     0.21221,     0.21321,     0.21421,     0.21522,\n",
       "           0.21622,     0.21722,     0.21822,     0.21922,     0.22022,     0.22122,     0.22222,     0.22322,     0.22422,     0.22523,     0.22623,     0.22723,     0.22823,     0.22923,     0.23023,     0.23123,     0.23223,     0.23323,     0.23423,     0.23524,     0.23624,     0.23724,     0.23824,     0.23924,\n",
       "           0.24024,     0.24124,     0.24224,     0.24324,     0.24424,     0.24525,     0.24625,     0.24725,     0.24825,     0.24925,     0.25025,     0.25125,     0.25225,     0.25325,     0.25425,     0.25526,     0.25626,     0.25726,     0.25826,     0.25926,     0.26026,     0.26126,     0.26226,     0.26326,\n",
       "           0.26426,     0.26527,     0.26627,     0.26727,     0.26827,     0.26927,     0.27027,     0.27127,     0.27227,     0.27327,     0.27427,     0.27528,     0.27628,     0.27728,     0.27828,     0.27928,     0.28028,     0.28128,     0.28228,     0.28328,     0.28428,     0.28529,     0.28629,     0.28729,\n",
       "           0.28829,     0.28929,     0.29029,     0.29129,     0.29229,     0.29329,     0.29429,      0.2953,      0.2963,      0.2973,      0.2983,      0.2993,      0.3003,      0.3013,      0.3023,      0.3033,      0.3043,     0.30531,     0.30631,     0.30731,     0.30831,     0.30931,     0.31031,     0.31131,\n",
       "           0.31231,     0.31331,     0.31431,     0.31532,     0.31632,     0.31732,     0.31832,     0.31932,     0.32032,     0.32132,     0.32232,     0.32332,     0.32432,     0.32533,     0.32633,     0.32733,     0.32833,     0.32933,     0.33033,     0.33133,     0.33233,     0.33333,     0.33433,     0.33534,\n",
       "           0.33634,     0.33734,     0.33834,     0.33934,     0.34034,     0.34134,     0.34234,     0.34334,     0.34434,     0.34535,     0.34635,     0.34735,     0.34835,     0.34935,     0.35035,     0.35135,     0.35235,     0.35335,     0.35435,     0.35536,     0.35636,     0.35736,     0.35836,     0.35936,\n",
       "           0.36036,     0.36136,     0.36236,     0.36336,     0.36436,     0.36537,     0.36637,     0.36737,     0.36837,     0.36937,     0.37037,     0.37137,     0.37237,     0.37337,     0.37437,     0.37538,     0.37638,     0.37738,     0.37838,     0.37938,     0.38038,     0.38138,     0.38238,     0.38338,\n",
       "           0.38438,     0.38539,     0.38639,     0.38739,     0.38839,     0.38939,     0.39039,     0.39139,     0.39239,     0.39339,     0.39439,      0.3954,      0.3964,      0.3974,      0.3984,      0.3994,      0.4004,      0.4014,      0.4024,      0.4034,      0.4044,     0.40541,     0.40641,     0.40741,\n",
       "           0.40841,     0.40941,     0.41041,     0.41141,     0.41241,     0.41341,     0.41441,     0.41542,     0.41642,     0.41742,     0.41842,     0.41942,     0.42042,     0.42142,     0.42242,     0.42342,     0.42442,     0.42543,     0.42643,     0.42743,     0.42843,     0.42943,     0.43043,     0.43143,\n",
       "           0.43243,     0.43343,     0.43443,     0.43544,     0.43644,     0.43744,     0.43844,     0.43944,     0.44044,     0.44144,     0.44244,     0.44344,     0.44444,     0.44545,     0.44645,     0.44745,     0.44845,     0.44945,     0.45045,     0.45145,     0.45245,     0.45345,     0.45445,     0.45546,\n",
       "           0.45646,     0.45746,     0.45846,     0.45946,     0.46046,     0.46146,     0.46246,     0.46346,     0.46446,     0.46547,     0.46647,     0.46747,     0.46847,     0.46947,     0.47047,     0.47147,     0.47247,     0.47347,     0.47447,     0.47548,     0.47648,     0.47748,     0.47848,     0.47948,\n",
       "           0.48048,     0.48148,     0.48248,     0.48348,     0.48448,     0.48549,     0.48649,     0.48749,     0.48849,     0.48949,     0.49049,     0.49149,     0.49249,     0.49349,     0.49449,      0.4955,      0.4965,      0.4975,      0.4985,      0.4995,      0.5005,      0.5015,      0.5025,      0.5035,\n",
       "            0.5045,     0.50551,     0.50651,     0.50751,     0.50851,     0.50951,     0.51051,     0.51151,     0.51251,     0.51351,     0.51451,     0.51552,     0.51652,     0.51752,     0.51852,     0.51952,     0.52052,     0.52152,     0.52252,     0.52352,     0.52452,     0.52553,     0.52653,     0.52753,\n",
       "           0.52853,     0.52953,     0.53053,     0.53153,     0.53253,     0.53353,     0.53453,     0.53554,     0.53654,     0.53754,     0.53854,     0.53954,     0.54054,     0.54154,     0.54254,     0.54354,     0.54454,     0.54555,     0.54655,     0.54755,     0.54855,     0.54955,     0.55055,     0.55155,\n",
       "           0.55255,     0.55355,     0.55455,     0.55556,     0.55656,     0.55756,     0.55856,     0.55956,     0.56056,     0.56156,     0.56256,     0.56356,     0.56456,     0.56557,     0.56657,     0.56757,     0.56857,     0.56957,     0.57057,     0.57157,     0.57257,     0.57357,     0.57457,     0.57558,\n",
       "           0.57658,     0.57758,     0.57858,     0.57958,     0.58058,     0.58158,     0.58258,     0.58358,     0.58458,     0.58559,     0.58659,     0.58759,     0.58859,     0.58959,     0.59059,     0.59159,     0.59259,     0.59359,     0.59459,      0.5956,      0.5966,      0.5976,      0.5986,      0.5996,\n",
       "            0.6006,      0.6016,      0.6026,      0.6036,      0.6046,     0.60561,     0.60661,     0.60761,     0.60861,     0.60961,     0.61061,     0.61161,     0.61261,     0.61361,     0.61461,     0.61562,     0.61662,     0.61762,     0.61862,     0.61962,     0.62062,     0.62162,     0.62262,     0.62362,\n",
       "           0.62462,     0.62563,     0.62663,     0.62763,     0.62863,     0.62963,     0.63063,     0.63163,     0.63263,     0.63363,     0.63463,     0.63564,     0.63664,     0.63764,     0.63864,     0.63964,     0.64064,     0.64164,     0.64264,     0.64364,     0.64464,     0.64565,     0.64665,     0.64765,\n",
       "           0.64865,     0.64965,     0.65065,     0.65165,     0.65265,     0.65365,     0.65465,     0.65566,     0.65666,     0.65766,     0.65866,     0.65966,     0.66066,     0.66166,     0.66266,     0.66366,     0.66466,     0.66567,     0.66667,     0.66767,     0.66867,     0.66967,     0.67067,     0.67167,\n",
       "           0.67267,     0.67367,     0.67467,     0.67568,     0.67668,     0.67768,     0.67868,     0.67968,     0.68068,     0.68168,     0.68268,     0.68368,     0.68468,     0.68569,     0.68669,     0.68769,     0.68869,     0.68969,     0.69069,     0.69169,     0.69269,     0.69369,     0.69469,      0.6957,\n",
       "            0.6967,      0.6977,      0.6987,      0.6997,      0.7007,      0.7017,      0.7027,      0.7037,      0.7047,     0.70571,     0.70671,     0.70771,     0.70871,     0.70971,     0.71071,     0.71171,     0.71271,     0.71371,     0.71471,     0.71572,     0.71672,     0.71772,     0.71872,     0.71972,\n",
       "           0.72072,     0.72172,     0.72272,     0.72372,     0.72472,     0.72573,     0.72673,     0.72773,     0.72873,     0.72973,     0.73073,     0.73173,     0.73273,     0.73373,     0.73473,     0.73574,     0.73674,     0.73774,     0.73874,     0.73974,     0.74074,     0.74174,     0.74274,     0.74374,\n",
       "           0.74474,     0.74575,     0.74675,     0.74775,     0.74875,     0.74975,     0.75075,     0.75175,     0.75275,     0.75375,     0.75475,     0.75576,     0.75676,     0.75776,     0.75876,     0.75976,     0.76076,     0.76176,     0.76276,     0.76376,     0.76476,     0.76577,     0.76677,     0.76777,\n",
       "           0.76877,     0.76977,     0.77077,     0.77177,     0.77277,     0.77377,     0.77477,     0.77578,     0.77678,     0.77778,     0.77878,     0.77978,     0.78078,     0.78178,     0.78278,     0.78378,     0.78478,     0.78579,     0.78679,     0.78779,     0.78879,     0.78979,     0.79079,     0.79179,\n",
       "           0.79279,     0.79379,     0.79479,      0.7958,      0.7968,      0.7978,      0.7988,      0.7998,      0.8008,      0.8018,      0.8028,      0.8038,      0.8048,     0.80581,     0.80681,     0.80781,     0.80881,     0.80981,     0.81081,     0.81181,     0.81281,     0.81381,     0.81481,     0.81582,\n",
       "           0.81682,     0.81782,     0.81882,     0.81982,     0.82082,     0.82182,     0.82282,     0.82382,     0.82482,     0.82583,     0.82683,     0.82783,     0.82883,     0.82983,     0.83083,     0.83183,     0.83283,     0.83383,     0.83483,     0.83584,     0.83684,     0.83784,     0.83884,     0.83984,\n",
       "           0.84084,     0.84184,     0.84284,     0.84384,     0.84484,     0.84585,     0.84685,     0.84785,     0.84885,     0.84985,     0.85085,     0.85185,     0.85285,     0.85385,     0.85485,     0.85586,     0.85686,     0.85786,     0.85886,     0.85986,     0.86086,     0.86186,     0.86286,     0.86386,\n",
       "           0.86486,     0.86587,     0.86687,     0.86787,     0.86887,     0.86987,     0.87087,     0.87187,     0.87287,     0.87387,     0.87487,     0.87588,     0.87688,     0.87788,     0.87888,     0.87988,     0.88088,     0.88188,     0.88288,     0.88388,     0.88488,     0.88589,     0.88689,     0.88789,\n",
       "           0.88889,     0.88989,     0.89089,     0.89189,     0.89289,     0.89389,     0.89489,      0.8959,      0.8969,      0.8979,      0.8989,      0.8999,      0.9009,      0.9019,      0.9029,      0.9039,      0.9049,     0.90591,     0.90691,     0.90791,     0.90891,     0.90991,     0.91091,     0.91191,\n",
       "           0.91291,     0.91391,     0.91491,     0.91592,     0.91692,     0.91792,     0.91892,     0.91992,     0.92092,     0.92192,     0.92292,     0.92392,     0.92492,     0.92593,     0.92693,     0.92793,     0.92893,     0.92993,     0.93093,     0.93193,     0.93293,     0.93393,     0.93493,     0.93594,\n",
       "           0.93694,     0.93794,     0.93894,     0.93994,     0.94094,     0.94194,     0.94294,     0.94394,     0.94494,     0.94595,     0.94695,     0.94795,     0.94895,     0.94995,     0.95095,     0.95195,     0.95295,     0.95395,     0.95495,     0.95596,     0.95696,     0.95796,     0.95896,     0.95996,\n",
       "           0.96096,     0.96196,     0.96296,     0.96396,     0.96496,     0.96597,     0.96697,     0.96797,     0.96897,     0.96997,     0.97097,     0.97197,     0.97297,     0.97397,     0.97497,     0.97598,     0.97698,     0.97798,     0.97898,     0.97998,     0.98098,     0.98198,     0.98298,     0.98398,\n",
       "           0.98498,     0.98599,     0.98699,     0.98799,     0.98899,     0.98999,     0.99099,     0.99199,     0.99299,     0.99399,     0.99499,       0.996,       0.997,       0.998,       0.999,           1]), array([[    0.96646,     0.96646,     0.96234,     0.95949,     0.95759,     0.95601,     0.95601,     0.95475,     0.95411,     0.95231,     0.95127,     0.94937,     0.94905,     0.94842,      0.9481,     0.94684,     0.94557,     0.94557,     0.94557,     0.94399,     0.94399,     0.94304,     0.94249,\n",
       "            0.94082,     0.94051,     0.94019,     0.94019,     0.93987,     0.93924,     0.93861,     0.93829,     0.93734,     0.93639,     0.93608,     0.93608,     0.93608,     0.93576,     0.93513,     0.93481,     0.93418,     0.93386,     0.93354,     0.93354,     0.93354,     0.93323,     0.93323,\n",
       "            0.93259,     0.93259,     0.93228,     0.93228,     0.93228,     0.93196,     0.93196,     0.93165,     0.93133,     0.93133,     0.93038,     0.92975,     0.92911,     0.92911,     0.92911,     0.92911,     0.92816,     0.92785,     0.92785,     0.92753,     0.92658,     0.92658,     0.92627,\n",
       "            0.92595,     0.92595,     0.92595,     0.92595,     0.92595,     0.92595,     0.92563,     0.92468,     0.92405,     0.92405,     0.92388,     0.92373,     0.92358,     0.92342,     0.92302,     0.92247,     0.92168,      0.9212,     0.92089,     0.92057,     0.92025,     0.91994,     0.91994,\n",
       "            0.91994,     0.91994,     0.91989,     0.91962,     0.91962,     0.91962,     0.91962,     0.91932,      0.9193,     0.91899,     0.91867,     0.91867,     0.91867,     0.91814,     0.91772,     0.91772,     0.91772,     0.91772,     0.91772,     0.91761,     0.91741,     0.91741,     0.91741,\n",
       "            0.91741,     0.91741,     0.91709,     0.91709,     0.91709,     0.91709,     0.91709,     0.91709,     0.91677,     0.91677,     0.91677,     0.91677,     0.91646,     0.91646,     0.91646,     0.91614,     0.91614,     0.91582,     0.91582,     0.91582,     0.91582,     0.91551,     0.91551,\n",
       "            0.91551,     0.91505,      0.9144,     0.91424,     0.91424,      0.9141,     0.91377,     0.91361,     0.91359,     0.91329,     0.91329,     0.91329,     0.91325,     0.91297,     0.91297,     0.91264,     0.91243,     0.91203,     0.91203,     0.91203,     0.91203,     0.91203,     0.91171,\n",
       "            0.91139,     0.91139,     0.91139,     0.91064,     0.91013,     0.91013,     0.91013,     0.91013,     0.91013,     0.90981,     0.90981,     0.90965,     0.90949,     0.90931,     0.90918,     0.90918,     0.90918,     0.90918,     0.90918,     0.90886,     0.90886,     0.90886,     0.90854,\n",
       "            0.90824,     0.90791,     0.90791,     0.90791,     0.90791,     0.90791,     0.90791,     0.90791,     0.90759,     0.90759,     0.90759,     0.90728,     0.90717,     0.90699,     0.90633,     0.90633,      0.9062,     0.90601,     0.90601,     0.90601,     0.90601,     0.90601,     0.90601,\n",
       "            0.90598,     0.90585,     0.90573,     0.90552,     0.90538,     0.90506,     0.90475,     0.90475,     0.90475,     0.90471,     0.90445,     0.90389,      0.9038,      0.9038,      0.9038,      0.9038,      0.9038,     0.90348,     0.90348,     0.90316,     0.90316,     0.90316,     0.90316,\n",
       "            0.90305,      0.9029,     0.90285,     0.90285,     0.90285,     0.90253,     0.90212,     0.90158,     0.90158,     0.90158,     0.90124,       0.901,     0.90095,     0.90095,     0.90095,     0.90095,     0.90078,     0.90049,      0.8999,      0.8996,     0.89947,     0.89937,     0.89913,\n",
       "            0.89856,     0.89837,     0.89822,      0.8981,      0.8981,      0.8978,     0.89747,     0.89742,     0.89732,     0.89722,     0.89715,     0.89715,     0.89715,     0.89715,     0.89715,     0.89652,     0.89652,     0.89652,     0.89647,     0.89642,     0.89636,      0.8963,     0.89624,\n",
       "             0.8962,      0.8962,      0.8962,      0.8962,      0.8962,     0.89596,     0.89557,     0.89557,     0.89538,     0.89525,     0.89525,     0.89525,     0.89516,     0.89494,     0.89494,     0.89494,     0.89494,     0.89494,     0.89462,     0.89462,     0.89462,     0.89462,     0.89462,\n",
       "            0.89462,     0.89462,     0.89399,     0.89342,     0.89304,     0.89304,     0.89304,     0.89304,     0.89304,     0.89297,     0.89272,     0.89272,     0.89272,     0.89272,     0.89269,     0.89241,     0.89234,     0.89215,      0.8918,     0.89147,     0.89114,     0.89114,     0.89104,\n",
       "            0.89086,     0.89082,     0.89016,     0.88982,     0.88956,     0.88956,     0.88956,     0.88956,     0.88924,     0.88887,     0.88869,     0.88861,     0.88861,     0.88861,      0.8885,     0.88839,     0.88827,     0.88815,     0.88803,     0.88743,     0.88734,     0.88734,     0.88734,\n",
       "            0.88734,     0.88734,     0.88734,     0.88734,     0.88734,     0.88734,     0.88722,      0.8871,     0.88703,     0.88696,     0.88678,     0.88671,     0.88671,     0.88671,     0.88671,     0.88639,     0.88604,     0.88593,     0.88581,     0.88557,     0.88513,     0.88501,     0.88482,\n",
       "            0.88481,     0.88481,     0.88481,     0.88479,     0.88474,     0.88468,     0.88463,     0.88457,     0.88451,     0.88437,     0.88418,     0.88354,     0.88323,     0.88323,     0.88313,     0.88281,     0.88248,      0.8818,     0.88154,     0.88138,     0.88101,     0.88078,     0.88038,\n",
       "            0.88022,     0.88006,     0.88006,     0.88006,     0.88006,     0.88006,     0.88006,     0.87975,     0.87966,     0.87947,     0.87943,     0.87917,     0.87885,      0.8788,     0.87866,      0.8785,     0.87846,     0.87835,     0.87825,     0.87781,     0.87764,     0.87748,     0.87732,\n",
       "            0.87706,     0.87658,     0.87616,       0.876,     0.87541,     0.87526,     0.87518,      0.8751,     0.87501,     0.87466,     0.87433,     0.87401,     0.87368,     0.87336,     0.87303,     0.87275,     0.87259,     0.87238,     0.87215,     0.87215,     0.87215,     0.87199,     0.87163,\n",
       "             0.8712,     0.87066,     0.87002,     0.86994,     0.86994,     0.86994,     0.86994,     0.86966,     0.86948,     0.86932,     0.86899,     0.86899,     0.86899,     0.86899,     0.86898,     0.86835,     0.86835,     0.86799,     0.86741,     0.86741,     0.86677,     0.86677,     0.86677,\n",
       "            0.86642,     0.86633,     0.86625,     0.86617,     0.86563,      0.8653,     0.86519,     0.86497,     0.86465,     0.86444,     0.86428,     0.86424,     0.86411,     0.86395,     0.86365,     0.86333,     0.86329,     0.86329,     0.86267,      0.8625,     0.86203,     0.86139,     0.86139,\n",
       "            0.86139,     0.86139,     0.86139,     0.86139,     0.86133,     0.86069,     0.86044,     0.86044,     0.86044,     0.86044,     0.86044,     0.86044,     0.86044,     0.86044,     0.86044,      0.8603,     0.85997,     0.85973,     0.85957,     0.85932,     0.85877,     0.85861,     0.85854,\n",
       "            0.85833,     0.85812,     0.85796,     0.85791,     0.85791,     0.85791,     0.85791,     0.85778,     0.85762,     0.85728,     0.85728,      0.8565,     0.85633,     0.85586,     0.85569,     0.85553,     0.85536,     0.85504,     0.85441,     0.85425,     0.85409,     0.85393,     0.85376,\n",
       "             0.8536,     0.85312,     0.85296,     0.85243,     0.85216,       0.852,     0.85178,     0.85158,     0.85158,     0.85158,     0.85158,     0.85127,     0.85078,     0.85045,     0.85013,     0.84895,     0.84879,     0.84852,     0.84788,     0.84736,     0.84719,     0.84691,     0.84627,\n",
       "            0.84607,     0.84591,     0.84557,     0.84529,     0.84462,      0.8443,     0.84367,     0.84367,     0.84367,      0.8435,     0.84295,     0.84279,     0.84253,      0.8422,     0.84188,     0.84155,     0.84123,     0.84059,     0.84051,     0.84051,     0.84025,     0.83992,      0.8396,\n",
       "            0.83942,     0.83925,     0.83894,     0.83862,     0.83829,      0.8367,     0.83605,     0.83526,     0.83418,     0.83398,     0.83386,     0.83365,     0.83354,     0.83237,     0.83173,     0.83109,     0.83076,     0.83044,     0.83038,     0.83038,      0.8301,      0.8293,     0.82904,\n",
       "            0.82888,     0.82848,     0.82832,     0.82799,     0.82744,     0.82728,     0.82702,     0.82658,     0.82627,      0.8256,     0.82544,     0.82492,     0.82397,     0.82301,     0.82269,     0.82247,     0.82204,     0.82171,     0.82147,     0.82134,     0.82121,     0.82089,     0.81994,\n",
       "            0.81961,     0.81928,     0.81899,      0.8186,     0.81772,     0.81719,     0.81592,     0.81582,     0.81582,     0.81526,     0.81494,     0.81351,     0.81318,     0.81223,     0.81196,      0.8118,     0.81143,     0.81077,     0.81013,     0.80917,     0.80821,     0.80694,     0.80659,\n",
       "            0.80613,      0.8057,     0.80549,     0.80453,     0.80357,     0.80222,      0.8015,     0.79991,     0.79895,     0.79852,     0.79814,      0.7981,     0.79718,     0.79622,     0.79479,     0.79383,     0.79287,     0.79192,     0.78985,      0.7889,     0.78794,     0.78761,     0.78629,\n",
       "            0.78554,     0.78513,     0.78394,     0.78251,     0.78219,     0.78186,     0.78016,     0.77947,     0.77848,     0.77819,     0.77644,     0.77549,     0.77484,     0.77183,     0.77056,     0.76928,     0.76766,     0.76626,     0.76562,     0.76435,     0.76165,     0.76037,     0.75966,\n",
       "            0.75842,     0.75826,     0.75639,     0.75432,     0.75182,      0.7516,     0.74891,     0.74874,     0.74442,     0.74198,     0.73734,     0.73701,     0.73513,     0.73513,     0.73215,     0.72941,     0.72925,     0.72812,     0.72791,     0.72579,     0.72333,     0.72301,     0.72057,\n",
       "            0.72057,      0.7188,     0.71416,     0.71394,     0.71124,     0.71108,     0.70802,     0.70495,     0.69967,     0.69946,     0.69665,     0.69632,     0.69448,     0.69079,     0.69057,     0.68498,     0.68125,     0.68101,     0.67863,     0.67595,     0.67595,     0.67201,     0.67185,\n",
       "            0.66848,     0.66541,      0.6652,     0.66118,     0.65622,     0.65347,     0.65326,     0.64987,     0.64304,     0.64304,     0.63847,     0.63507,     0.63481,     0.62991,     0.62526,     0.62504,     0.61976,     0.61476,     0.61432,     0.60731,     0.60339,     0.60318,      0.5981,\n",
       "            0.59209,     0.58734,     0.58712,     0.58247,     0.57877,     0.57433,     0.57396,       0.566,      0.5604,     0.56019,     0.55467,     0.55078,     0.55038,     0.54357,      0.5385,     0.53283,     0.53262,     0.52829,     0.52314,     0.52279,     0.52026,     0.51772,     0.51413,\n",
       "            0.50885,     0.50863,     0.50372,     0.49986,     0.49395,     0.49374,     0.48996,     0.48529,     0.48096,     0.48074,     0.47543,     0.47062,     0.46669,     0.46648,     0.46142,     0.45771,     0.45318,     0.44794,     0.44335,     0.43986,     0.43965,     0.43602,     0.43145,\n",
       "            0.42649,     0.42083,     0.42013,     0.41677,     0.41242,     0.40932,     0.40465,     0.40423,      0.4001,     0.39514,     0.39247,     0.38929,     0.38435,     0.38388,     0.38102,     0.37563,     0.37529,     0.37211,     0.36563,      0.3612,     0.35787,     0.35337,     0.34867,\n",
       "            0.34796,     0.34162,     0.33875,     0.33589,     0.33179,     0.32921,     0.32445,     0.32095,     0.31651,     0.31315,     0.31173,      0.3095,     0.30442,     0.30029,     0.29647,     0.29456,     0.29078,     0.28603,     0.28565,     0.28279,     0.27897,     0.27421,     0.26977,\n",
       "            0.26658,     0.26245,     0.25801,     0.25451,      0.2526,     0.25005,     0.24624,     0.24116,     0.23671,     0.22878,      0.2237,     0.21989,     0.21608,      0.2129,      0.2075,     0.20495,     0.20114,     0.19353,      0.1894,     0.18559,     0.17924,     0.17321,     0.16782,\n",
       "            0.16401,     0.16209,     0.15543,     0.15067,     0.14749,     0.14082,      0.1348,     0.12782,     0.12464,     0.12272,     0.11796,     0.11605,      0.1116,     0.10715,     0.10176,    0.099527,    0.095081,      0.0919,    0.090302,    0.088071,    0.085524,    0.082976,     0.07853,\n",
       "           0.074084,    0.071536,     0.06804,    0.063593,    0.059147,    0.054384,    0.052786,    0.048657,    0.047375,     0.04599,    0.044179,    0.042581,      0.0394,     0.03599,    0.034622,    0.031543,    0.030476,    0.027929,    0.026014,    0.024416,    0.022501,    0.019637,    0.016457,\n",
       "           0.013759,    0.012944,    0.011686,     0.01133,   0.0090993,   0.0084076,   0.0078018,    0.007168,   0.0070058,   0.0064088,    0.005768,   0.0054436,   0.0051192,   0.0043569,   0.0041406,    0.002596,   0.0021259,   0.0019096,   0.0014591,   0.0013293,  0.00094192,  0.00060218,           0,\n",
       "                  0,           0,           0,           0,           0,           0,           0,           0,           0,           0,           0,           0,           0,           0,           0,           0,           0,           0,           0,           0,           0,           0,           0,\n",
       "                  0,           0,           0,           0,           0,           0,           0,           0,           0,           0,           0,           0,           0,           0,           0,           0,           0,           0,           0,           0,           0,           0,           0,\n",
       "                  0,           0,           0,           0,           0,           0,           0,           0,           0,           0,           0]]), 'Confidence', 'Recall']]\n",
       "fitness: np.float64(0.7244592091521717)\n",
       "keys: ['metrics/precision(B)', 'metrics/recall(B)', 'metrics/mAP50(B)', 'metrics/mAP50-95(B)']\n",
       "maps: array([    0.70061])\n",
       "names: {0: 'ball'}\n",
       "plot: True\n",
       "results_dict: {'metrics/precision(B)': np.float64(0.9366016659088547), 'metrics/recall(B)': np.float64(0.8882671509253788), 'metrics/mAP50(B)': np.float64(0.939122437168374), 'metrics/mAP50-95(B)': np.float64(0.7006077393725936), 'fitness': np.float64(0.7244592091521717)}\n",
       "save_dir: WindowsPath('runs/detect/train4')\n",
       "speed: {'preprocess': 0.29560635263543655, 'inference': 5.149214723483647, 'loss': 0.0012335949794908564, 'postprocess': 1.0794286248716143}\n",
       "task: 'detect'"
      ]
     },
     "execution_count": 5,
     "metadata": {},
     "output_type": "execute_result"
    }
   ],
   "source": [
    "from ultralytics import YOLO\n",
    "\n",
    "# 모델 불러오기 (YOLOv8 세그멘테이션용 사전 학습 모델)\n",
    "model = YOLO(\"yolov8m.pt\")  # 또는 yolov8n-seg.pt\n",
    "\n",
    "# 학습 시작\n",
    "model.train(\n",
    "    data=\"C:/Users/DM/Documents/yh/AIFFELthon/data/custom/custom_image_ver3/data/final/data.yaml\",\n",
    "    epochs=50,\n",
    "    imgsz=960,\n",
    "    batch=6,\n",
    "    lr0=0.0005,\n",
    "    patience=5,\n",
    "    optimizer='Adam',\n",
    "    device=0,\n",
    ")\n",
    "\n",
    "# 더 학습시 resume=True, model = last.pt 사용\n"
   ]
  },
  {
   "cell_type": "code",
   "execution_count": null,
   "id": "f157a38f",
   "metadata": {},
   "outputs": [],
   "source": []
  }
 ],
 "metadata": {
  "kernelspec": {
   "display_name": "AIFFELthon",
   "language": "python",
   "name": "python3"
  },
  "language_info": {
   "codemirror_mode": {
    "name": "ipython",
    "version": 3
   },
   "file_extension": ".py",
   "mimetype": "text/x-python",
   "name": "python",
   "nbconvert_exporter": "python",
   "pygments_lexer": "ipython3",
   "version": "3.10.16"
  }
 },
 "nbformat": 4,
 "nbformat_minor": 5
}
